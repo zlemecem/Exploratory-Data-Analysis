{
  "nbformat": 4,
  "nbformat_minor": 0,
  "metadata": {
    "kernelspec": {
      "display_name": "Python 3",
      "language": "python",
      "name": "python3"
    },
    "language_info": {
      "codemirror_mode": {
        "name": "ipython",
        "version": 3
      },
      "file_extension": ".py",
      "mimetype": "text/x-python",
      "name": "python",
      "nbconvert_exporter": "python",
      "pygments_lexer": "ipython3",
      "version": "3.8.2"
    },
    "colab": {
      "name": "TheConceptofStatisticalModeling_en.ipynb",
      "provenance": []
    }
  },
  "cells": [
    {
      "cell_type": "markdown",
      "metadata": {
        "id": "3MZjcpQ9MPOC"
      },
      "source": [
        "# <font color=blue>Assignments for \"The Concept of Statistical Modeling\"</font>"
      ]
    },
    {
      "cell_type": "markdown",
      "metadata": {
        "id": "WN_IcHRTMPOQ"
      },
      "source": [
        "To complete this assignment, send the Github link of the Jupyter notebook file containing solutions to the following questions:"
      ]
    },
    {
      "cell_type": "markdown",
      "metadata": {
        "id": "HePa0qxdMPOR"
      },
      "source": [
        "**(1) Try to model the result of throwing a coin. Include features in your model that you consider important when explaining the result. Discuss the pros and cons of adding too many features to your model with your mentor.**"
      ]
    },
    {
      "cell_type": "markdown",
      "metadata": {
        "id": "TfFiHRRjMPOS"
      },
      "source": [
        "We can formulate the problem very easily in a statistical model. If we repeat the process several times, we will see that half of the attempts are writing and half of them are heads. Therefore, our statistical model reveals that the result will be a writing with a probability of 0.5 and a tour with a probability of 0.5.\n",
        "\n",
        "Head is encoded by 1 and Tail is 0. Outcome is a random variable Y. The number p is a parameter of the model; the possible values it can taken on, namely the interval [0, 1], is the parameter space. \n",
        "\n",
        "If p > 1/2, then predict “head”.\n",
        "\n",
        "If p < 1/2, then predict “tail”.\n",
        "\n",
        "If p = 1/2, doesn’t matter\n"
      ]
    },
    {
      "cell_type": "markdown",
      "metadata": {
        "id": "aZUIw6oXMPOT"
      },
      "source": [
        "**(2) If you have used Netflix before, you should have noticed that it offers some suggestions for you to watch. In data science, this is an example called referral systems. Read about Netflix's non-technical blog post about how they model their suggestion systems. Then derive the features they use in the referral engines and discuss any other features that can be included in this model.**\n",
        "\n",
        "**Discuss your arguments with your mentor.**"
      ]
    },
    {
      "cell_type": "markdown",
      "metadata": {
        "id": "S2oAGk5kMPOU"
      },
      "source": [
        "Referral system takes the information about the user as an input. It then processes this information to predict how much the user would rate or prefer the product. Netflix searches for movies that are similar to the ones you have watched or have liked previously. There is a cold start which the company does not have much of the user data available to generate recommendations. Netflix recommends us films by content-based and Collaborative filtering recommendation systems. In a content-based recommendation system, the background knowledge of the products and customer information are taken into consideration. Based on the content that you have viewed on Netflix, it provides us with similar suggestions. Unlike the content based filtering that provided recommendations of similar products, Collaborative Filtering provides recommendations based on the similar profiles of its users. One key advantage of collaborative filtering is that it is independent of the product knowledge.\n",
        "\n"
      ]
    }
  ]
}