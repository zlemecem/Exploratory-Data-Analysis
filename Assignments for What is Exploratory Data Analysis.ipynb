{
 "cells": [
  {
   "cell_type": "markdown",
   "metadata": {},
   "source": [
    "1. answer: The main purpose of exploratory data analysis is to interpret the data correctly. In order to guess of data correctly, some methods are used and data is modified. It shows us how to achieve the desired result in the most accurate way.\n",
    "\n",
    "2. answers: \n",
    "a) Some values may be null. Also, with the customer misunderstanding the ratings, they may value them in reverse. these, in turn, can lead to the wrong conclusion. Having null values reduces the accuracy of our data. Because the more values there are, the closer we are to the correct result. Therefore, we may need to edit the missing data.\n",
    "b)Firstly, I clear null and outliears values. Convert string or object to integer. Then, in a for loop, I categorize 1 and 2 points as negative, 3 as neutral, and 4-5 as positive. I add these categories as a new column to the dataset. Finally, I can show the positive and negative comments with the groupby method.\n",
    "c) From the percentage values of positive and negative data, we can observe which products are useful or sell well. We can observe that some products are negative and why they get negative ratings. We can calculate the sales rates accordingly. However, in order to give correct results, only those who buy the products should be able to comment. Otherwise, the results will be wrong.\n",
    "\n",
    "3. answer: It can be difficult to make an inference if we do not have enough data. Therefore, the lost data should be filled with the closest option. Of course, one of the important things here is that the result should not be turned in the wrong direction.\n",
    "\n",
    "4. answer: Ofcourse. Because these values can pull our data in an direction we don't want. Incorrect value may be entered due to typo. or because it may be extraordinary, values that are very different from normal may occur. These values distort the result when we get accurate predictions. For example, people who took 10 in an exam were mistakenly typed 100. The success rate has increased in the exam results. this causes us to make false predictions.\n",
    "\n",
    "5. answer: First of all, we need to know the data. With the .info() command, we can get a lot of information. With this command, we can observe how many values are integers, how many values are strings and how many values are null. We detect these null values. We have to decide whether the lost data should be filled or deleted. We have to decide whether our data is continuous or discrete or categorical. The next step from here is that there are no outliers and how we should approach them."
   ]
  }
 ],
 "metadata": {
  "kernelspec": {
   "display_name": "Python 3",
   "language": "python",
   "name": "python3"
  },
  "language_info": {
   "codemirror_mode": {
    "name": "ipython",
    "version": 3
   },
   "file_extension": ".py",
   "mimetype": "text/x-python",
   "name": "python",
   "nbconvert_exporter": "python",
   "pygments_lexer": "ipython3",
   "version": "3.8.3"
  }
 },
 "nbformat": 4,
 "nbformat_minor": 4
}
