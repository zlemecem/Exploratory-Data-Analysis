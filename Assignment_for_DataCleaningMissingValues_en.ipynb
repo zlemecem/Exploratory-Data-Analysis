{
  "nbformat": 4,
  "nbformat_minor": 0,
  "metadata": {
    "kernelspec": {
      "display_name": "Python 3",
      "language": "python",
      "name": "python3"
    },
    "language_info": {
      "codemirror_mode": {
        "name": "ipython",
        "version": 3
      },
      "file_extension": ".py",
      "mimetype": "text/x-python",
      "name": "python",
      "nbconvert_exporter": "python",
      "pygments_lexer": "ipython3",
      "version": "3.8.2"
    },
    "colab": {
      "name": "ödev----DataCleaningMissingValues_en.ipynb",
      "provenance": [],
      "collapsed_sections": []
    }
  },
  "cells": [
    {
      "cell_type": "markdown",
      "metadata": {
        "id": "OdXuYgGsDZbA"
      },
      "source": [
        "# <font color=blue>Assignments for \"Data Cleaning - Missing Values\"</font>"
      ]
    },
    {
      "cell_type": "markdown",
      "metadata": {
        "id": "ukirnwdhDZbQ"
      },
      "source": [
        "In this assignment, you are going to use a dataset related to the US education system. Please download the ([dataset](https://www.kaggle.com/noriuk/us-education-datasets-unification-project/home)) from Kaggle. You are going to use `states_all.csv` within this dataset.\n",
        "\n",
        "To complete this assignment, submit the Github link of the Jupyter notebook file containing solutions to the questions below. You can talk to your mentor on your head or ask Slack at office time."
      ]
    },
    {
      "cell_type": "code",
      "metadata": {
        "id": "HZa3CS96DqyA"
      },
      "source": [
        "import numpy as np # linear algebra\n",
        "import pandas as pd\n",
        "import matplotlib.pyplot as plt\n",
        "\n",
        "df_states=pd.read_csv('states_all.csv')"
      ],
      "execution_count": 258,
      "outputs": []
    },
    {
      "cell_type": "code",
      "metadata": {
        "id": "DIp4bPv0Kvc3"
      },
      "source": [
        "df_states=pd.read_csv('states_all.csv')\n",
        "df_states1=df_states.copy()\n",
        "df_states2=df_states.copy()\n",
        "df_states3=df_states.copy()"
      ],
      "execution_count": 259,
      "outputs": []
    },
    {
      "cell_type": "markdown",
      "metadata": {
        "id": "iatuIA07DZbR"
      },
      "source": [
        "**(1)** Find the types of variables in the dataset and the missing (null) ratio of each variable."
      ]
    },
    {
      "cell_type": "code",
      "metadata": {
        "colab": {
          "base_uri": "https://localhost:8080/"
        },
        "id": "L2lETuDZK15u",
        "outputId": "4e4cf9a5-8f6b-4550-9dd0-9bef23dc9a55"
      },
      "source": [
        "print(\"The types of variables in the dataset.\")\n",
        "print(\"--\"*30) \n",
        "df_states.info()"
      ],
      "execution_count": 260,
      "outputs": [
        {
          "output_type": "stream",
          "text": [
            "The types of variables in the dataset.\n",
            "------------------------------------------------------------\n",
            "<class 'pandas.core.frame.DataFrame'>\n",
            "RangeIndex: 1715 entries, 0 to 1714\n",
            "Data columns (total 25 columns):\n",
            " #   Column                        Non-Null Count  Dtype  \n",
            "---  ------                        --------------  -----  \n",
            " 0   PRIMARY_KEY                   1715 non-null   object \n",
            " 1   STATE                         1715 non-null   object \n",
            " 2   YEAR                          1715 non-null   int64  \n",
            " 3   ENROLL                        1224 non-null   float64\n",
            " 4   TOTAL_REVENUE                 1275 non-null   float64\n",
            " 5   FEDERAL_REVENUE               1275 non-null   float64\n",
            " 6   STATE_REVENUE                 1275 non-null   float64\n",
            " 7   LOCAL_REVENUE                 1275 non-null   float64\n",
            " 8   TOTAL_EXPENDITURE             1275 non-null   float64\n",
            " 9   INSTRUCTION_EXPENDITURE       1275 non-null   float64\n",
            " 10  SUPPORT_SERVICES_EXPENDITURE  1275 non-null   float64\n",
            " 11  OTHER_EXPENDITURE             1224 non-null   float64\n",
            " 12  CAPITAL_OUTLAY_EXPENDITURE    1275 non-null   float64\n",
            " 13  GRADES_PK_G                   1542 non-null   float64\n",
            " 14  GRADES_KG_G                   1632 non-null   float64\n",
            " 15  GRADES_4_G                    1632 non-null   float64\n",
            " 16  GRADES_8_G                    1632 non-null   float64\n",
            " 17  GRADES_12_G                   1632 non-null   float64\n",
            " 18  GRADES_1_8_G                  1020 non-null   float64\n",
            " 19  GRADES_9_12_G                 1071 non-null   float64\n",
            " 20  GRADES_ALL_G                  1632 non-null   float64\n",
            " 21  AVG_MATH_4_SCORE              565 non-null    float64\n",
            " 22  AVG_MATH_8_SCORE              602 non-null    float64\n",
            " 23  AVG_READING_4_SCORE           650 non-null    float64\n",
            " 24  AVG_READING_8_SCORE           562 non-null    float64\n",
            "dtypes: float64(22), int64(1), object(2)\n",
            "memory usage: 335.1+ KB\n"
          ],
          "name": "stdout"
        }
      ]
    },
    {
      "cell_type": "code",
      "metadata": {
        "colab": {
          "base_uri": "https://localhost:8080/"
        },
        "id": "aPCkXbc9K-vO",
        "outputId": "0f5079c7-8c76-4742-936b-9477db483840"
      },
      "source": [
        "print(\"Null Values\")\n",
        "print(\"--\"*30)\n",
        "df_states.isnull().sum()"
      ],
      "execution_count": 261,
      "outputs": [
        {
          "output_type": "stream",
          "text": [
            "Null Values\n",
            "------------------------------------------------------------\n"
          ],
          "name": "stdout"
        },
        {
          "output_type": "execute_result",
          "data": {
            "text/plain": [
              "PRIMARY_KEY                        0\n",
              "STATE                              0\n",
              "YEAR                               0\n",
              "ENROLL                           491\n",
              "TOTAL_REVENUE                    440\n",
              "FEDERAL_REVENUE                  440\n",
              "STATE_REVENUE                    440\n",
              "LOCAL_REVENUE                    440\n",
              "TOTAL_EXPENDITURE                440\n",
              "INSTRUCTION_EXPENDITURE          440\n",
              "SUPPORT_SERVICES_EXPENDITURE     440\n",
              "OTHER_EXPENDITURE                491\n",
              "CAPITAL_OUTLAY_EXPENDITURE       440\n",
              "GRADES_PK_G                      173\n",
              "GRADES_KG_G                       83\n",
              "GRADES_4_G                        83\n",
              "GRADES_8_G                        83\n",
              "GRADES_12_G                       83\n",
              "GRADES_1_8_G                     695\n",
              "GRADES_9_12_G                    644\n",
              "GRADES_ALL_G                      83\n",
              "AVG_MATH_4_SCORE                1150\n",
              "AVG_MATH_8_SCORE                1113\n",
              "AVG_READING_4_SCORE             1065\n",
              "AVG_READING_8_SCORE             1153\n",
              "dtype: int64"
            ]
          },
          "metadata": {
            "tags": []
          },
          "execution_count": 261
        }
      ]
    },
    {
      "cell_type": "code",
      "metadata": {
        "colab": {
          "base_uri": "https://localhost:8080/"
        },
        "id": "vciZzpugLD3U",
        "outputId": "56368ce6-78ab-4f9c-b5d7-98759462cd2b"
      },
      "source": [
        "print(\"The missing ratio of each variables:\")\n",
        "print(\"--\"*30)\n",
        "df_states.isnull().sum()*100/df_states.shape[0]"
      ],
      "execution_count": 262,
      "outputs": [
        {
          "output_type": "stream",
          "text": [
            "The missing ratio of each variables:\n",
            "------------------------------------------------------------\n"
          ],
          "name": "stdout"
        },
        {
          "output_type": "execute_result",
          "data": {
            "text/plain": [
              "PRIMARY_KEY                      0.000000\n",
              "STATE                            0.000000\n",
              "YEAR                             0.000000\n",
              "ENROLL                          28.629738\n",
              "TOTAL_REVENUE                   25.655977\n",
              "FEDERAL_REVENUE                 25.655977\n",
              "STATE_REVENUE                   25.655977\n",
              "LOCAL_REVENUE                   25.655977\n",
              "TOTAL_EXPENDITURE               25.655977\n",
              "INSTRUCTION_EXPENDITURE         25.655977\n",
              "SUPPORT_SERVICES_EXPENDITURE    25.655977\n",
              "OTHER_EXPENDITURE               28.629738\n",
              "CAPITAL_OUTLAY_EXPENDITURE      25.655977\n",
              "GRADES_PK_G                     10.087464\n",
              "GRADES_KG_G                      4.839650\n",
              "GRADES_4_G                       4.839650\n",
              "GRADES_8_G                       4.839650\n",
              "GRADES_12_G                      4.839650\n",
              "GRADES_1_8_G                    40.524781\n",
              "GRADES_9_12_G                   37.551020\n",
              "GRADES_ALL_G                     4.839650\n",
              "AVG_MATH_4_SCORE                67.055394\n",
              "AVG_MATH_8_SCORE                64.897959\n",
              "AVG_READING_4_SCORE             62.099125\n",
              "AVG_READING_8_SCORE             67.230321\n",
              "dtype: float64"
            ]
          },
          "metadata": {
            "tags": []
          },
          "execution_count": 262
        }
      ]
    },
    {
      "cell_type": "code",
      "metadata": {
        "colab": {
          "base_uri": "https://localhost:8080/"
        },
        "id": "XYBBblylLOxC",
        "outputId": "59334245-401d-4fe6-e3c7-5ac4b3383a16"
      },
      "source": [
        "print(\"We can assume that higher than %65 ratio will not be neglected, lower than %5 ratio will be neglected and other values are filled.\")\n",
        "print(\"--\"*30)\n",
        "df=df_states1.isnull().sum()*100/df_states1.shape[0]\n",
        "neglect=[]\n",
        "similar=[]\n",
        "not_null=[]\n",
        "notneglect=[]\n",
        "for i in range(len(df)):\n",
        "    if df[i]<5 and df[i]>0.0001:\n",
        "        neglect.append(df.index[i])\n",
        "    elif df[i]>5 and df[i]<65:\n",
        "        similar.append(df.index[i])\n",
        "    elif df[i]==0.00 :\n",
        "        not_null.append(df.index[i])\n",
        "    else:\n",
        "        notneglect.append(df.index[i])\n",
        "print(\"Lower null value than %5 :\",neglect)            \n",
        "print(\"Higher null values than %65 :\",notneglect)\n",
        "print(\"Not null values :\",not_null)\n",
        "print(\"%5-%65 null ratio :\",similar)"
      ],
      "execution_count": 263,
      "outputs": [
        {
          "output_type": "stream",
          "text": [
            "We can assume that higher than %65 ratio will not be neglected, lower than %5 ratio will be neglected and other values are filled.\n",
            "------------------------------------------------------------\n",
            "Lower null value than %5 : ['GRADES_KG_G', 'GRADES_4_G', 'GRADES_8_G', 'GRADES_12_G', 'GRADES_ALL_G']\n",
            "Higher null values than %65 : ['AVG_MATH_4_SCORE', 'AVG_READING_8_SCORE']\n",
            "Not null values : ['PRIMARY_KEY', 'STATE', 'YEAR']\n",
            "%5-%65 null ratio : ['ENROLL', 'TOTAL_REVENUE', 'FEDERAL_REVENUE', 'STATE_REVENUE', 'LOCAL_REVENUE', 'TOTAL_EXPENDITURE', 'INSTRUCTION_EXPENDITURE', 'SUPPORT_SERVICES_EXPENDITURE', 'OTHER_EXPENDITURE', 'CAPITAL_OUTLAY_EXPENDITURE', 'GRADES_PK_G', 'GRADES_1_8_G', 'GRADES_9_12_G', 'AVG_MATH_8_SCORE', 'AVG_READING_4_SCORE']\n"
          ],
          "name": "stdout"
        }
      ]
    },
    {
      "cell_type": "markdown",
      "metadata": {
        "id": "hDyrvH_zDZbT"
      },
      "source": [
        "**(2)** You may have noticed that our data has a year column. For now, forget about the year data and assume that each observation was made in the same year. Consider how you can fill in missing values for each variable. Filling in the missing values with a value is meaningful for which variables and for which ones?"
      ]
    },
    {
      "cell_type": "markdown",
      "metadata": {
        "id": "ZX3DVGX9MPS-"
      },
      "source": [
        "**We can fill with the mean value of the each states for each column.**"
      ]
    },
    {
      "cell_type": "code",
      "metadata": {
        "id": "qY9oCZPTDd7u"
      },
      "source": [
        "for i in df_states1.columns[3:]:\n",
        "  df_states1[i] = df_states1[i].fillna(df_states1.groupby('STATE')[i].transform('mean'))\n",
        "  df_states1[i] = df_states1[i].fillna(df_states1[i].mean())   "
      ],
      "execution_count": 264,
      "outputs": []
    },
    {
      "cell_type": "code",
      "metadata": {
        "colab": {
          "base_uri": "https://localhost:8080/"
        },
        "id": "45C_z2PYD6d6",
        "outputId": "efdbca01-e0b1-4d22-e924-695b5feb50e0"
      },
      "source": [
        "df_states1.isnull().sum()"
      ],
      "execution_count": 265,
      "outputs": [
        {
          "output_type": "execute_result",
          "data": {
            "text/plain": [
              "PRIMARY_KEY                     0\n",
              "STATE                           0\n",
              "YEAR                            0\n",
              "ENROLL                          0\n",
              "TOTAL_REVENUE                   0\n",
              "FEDERAL_REVENUE                 0\n",
              "STATE_REVENUE                   0\n",
              "LOCAL_REVENUE                   0\n",
              "TOTAL_EXPENDITURE               0\n",
              "INSTRUCTION_EXPENDITURE         0\n",
              "SUPPORT_SERVICES_EXPENDITURE    0\n",
              "OTHER_EXPENDITURE               0\n",
              "CAPITAL_OUTLAY_EXPENDITURE      0\n",
              "GRADES_PK_G                     0\n",
              "GRADES_KG_G                     0\n",
              "GRADES_4_G                      0\n",
              "GRADES_8_G                      0\n",
              "GRADES_12_G                     0\n",
              "GRADES_1_8_G                    0\n",
              "GRADES_9_12_G                   0\n",
              "GRADES_ALL_G                    0\n",
              "AVG_MATH_4_SCORE                0\n",
              "AVG_MATH_8_SCORE                0\n",
              "AVG_READING_4_SCORE             0\n",
              "AVG_READING_8_SCORE             0\n",
              "dtype: int64"
            ]
          },
          "metadata": {
            "tags": []
          },
          "execution_count": 265
        }
      ]
    },
    {
      "cell_type": "markdown",
      "metadata": {
        "id": "VK8b1j0_DZbU"
      },
      "source": [
        "**(3)** Now it's time to consider the factor of time! Review your answer in question 2 and fill in the missing data based on the values observed during that year. For example, if you want to fill a value with an average value, calculate the average of that year."
      ]
    },
    {
      "cell_type": "markdown",
      "metadata": {
        "id": "eOu_BQH3Or7U"
      },
      "source": [
        "Second copy of original states.csv file:"
      ]
    },
    {
      "cell_type": "code",
      "metadata": {
        "colab": {
          "base_uri": "https://localhost:8080/",
          "height": 411
        },
        "id": "5wCAjWZ_N9Fd",
        "outputId": "74b1d698-3b96-429f-8e0c-e3d28a37b642"
      },
      "source": [
        "df_states2"
      ],
      "execution_count": 266,
      "outputs": [
        {
          "output_type": "execute_result",
          "data": {
            "text/html": [
              "<div>\n",
              "<style scoped>\n",
              "    .dataframe tbody tr th:only-of-type {\n",
              "        vertical-align: middle;\n",
              "    }\n",
              "\n",
              "    .dataframe tbody tr th {\n",
              "        vertical-align: top;\n",
              "    }\n",
              "\n",
              "    .dataframe thead th {\n",
              "        text-align: right;\n",
              "    }\n",
              "</style>\n",
              "<table border=\"1\" class=\"dataframe\">\n",
              "  <thead>\n",
              "    <tr style=\"text-align: right;\">\n",
              "      <th></th>\n",
              "      <th>PRIMARY_KEY</th>\n",
              "      <th>STATE</th>\n",
              "      <th>YEAR</th>\n",
              "      <th>ENROLL</th>\n",
              "      <th>TOTAL_REVENUE</th>\n",
              "      <th>FEDERAL_REVENUE</th>\n",
              "      <th>STATE_REVENUE</th>\n",
              "      <th>LOCAL_REVENUE</th>\n",
              "      <th>TOTAL_EXPENDITURE</th>\n",
              "      <th>INSTRUCTION_EXPENDITURE</th>\n",
              "      <th>SUPPORT_SERVICES_EXPENDITURE</th>\n",
              "      <th>OTHER_EXPENDITURE</th>\n",
              "      <th>CAPITAL_OUTLAY_EXPENDITURE</th>\n",
              "      <th>GRADES_PK_G</th>\n",
              "      <th>GRADES_KG_G</th>\n",
              "      <th>GRADES_4_G</th>\n",
              "      <th>GRADES_8_G</th>\n",
              "      <th>GRADES_12_G</th>\n",
              "      <th>GRADES_1_8_G</th>\n",
              "      <th>GRADES_9_12_G</th>\n",
              "      <th>GRADES_ALL_G</th>\n",
              "      <th>AVG_MATH_4_SCORE</th>\n",
              "      <th>AVG_MATH_8_SCORE</th>\n",
              "      <th>AVG_READING_4_SCORE</th>\n",
              "      <th>AVG_READING_8_SCORE</th>\n",
              "    </tr>\n",
              "  </thead>\n",
              "  <tbody>\n",
              "    <tr>\n",
              "      <th>0</th>\n",
              "      <td>1992_ALABAMA</td>\n",
              "      <td>ALABAMA</td>\n",
              "      <td>1992</td>\n",
              "      <td>NaN</td>\n",
              "      <td>2678885.0</td>\n",
              "      <td>304177.0</td>\n",
              "      <td>1659028.0</td>\n",
              "      <td>715680.0</td>\n",
              "      <td>2653798.0</td>\n",
              "      <td>1481703.0</td>\n",
              "      <td>735036.0</td>\n",
              "      <td>NaN</td>\n",
              "      <td>174053.0</td>\n",
              "      <td>8224.0</td>\n",
              "      <td>55460.0</td>\n",
              "      <td>57948.0</td>\n",
              "      <td>58025.0</td>\n",
              "      <td>41167.0</td>\n",
              "      <td>NaN</td>\n",
              "      <td>NaN</td>\n",
              "      <td>731634.0</td>\n",
              "      <td>208.0</td>\n",
              "      <td>252.0</td>\n",
              "      <td>207.0</td>\n",
              "      <td>NaN</td>\n",
              "    </tr>\n",
              "    <tr>\n",
              "      <th>1</th>\n",
              "      <td>1992_ALASKA</td>\n",
              "      <td>ALASKA</td>\n",
              "      <td>1992</td>\n",
              "      <td>NaN</td>\n",
              "      <td>1049591.0</td>\n",
              "      <td>106780.0</td>\n",
              "      <td>720711.0</td>\n",
              "      <td>222100.0</td>\n",
              "      <td>972488.0</td>\n",
              "      <td>498362.0</td>\n",
              "      <td>350902.0</td>\n",
              "      <td>NaN</td>\n",
              "      <td>37451.0</td>\n",
              "      <td>2371.0</td>\n",
              "      <td>10152.0</td>\n",
              "      <td>9748.0</td>\n",
              "      <td>8789.0</td>\n",
              "      <td>6714.0</td>\n",
              "      <td>NaN</td>\n",
              "      <td>NaN</td>\n",
              "      <td>122487.0</td>\n",
              "      <td>NaN</td>\n",
              "      <td>NaN</td>\n",
              "      <td>NaN</td>\n",
              "      <td>NaN</td>\n",
              "    </tr>\n",
              "    <tr>\n",
              "      <th>2</th>\n",
              "      <td>1992_ARIZONA</td>\n",
              "      <td>ARIZONA</td>\n",
              "      <td>1992</td>\n",
              "      <td>NaN</td>\n",
              "      <td>3258079.0</td>\n",
              "      <td>297888.0</td>\n",
              "      <td>1369815.0</td>\n",
              "      <td>1590376.0</td>\n",
              "      <td>3401580.0</td>\n",
              "      <td>1435908.0</td>\n",
              "      <td>1007732.0</td>\n",
              "      <td>NaN</td>\n",
              "      <td>609114.0</td>\n",
              "      <td>2544.0</td>\n",
              "      <td>53497.0</td>\n",
              "      <td>55433.0</td>\n",
              "      <td>49081.0</td>\n",
              "      <td>37410.0</td>\n",
              "      <td>NaN</td>\n",
              "      <td>NaN</td>\n",
              "      <td>673477.0</td>\n",
              "      <td>215.0</td>\n",
              "      <td>265.0</td>\n",
              "      <td>209.0</td>\n",
              "      <td>NaN</td>\n",
              "    </tr>\n",
              "    <tr>\n",
              "      <th>3</th>\n",
              "      <td>1992_ARKANSAS</td>\n",
              "      <td>ARKANSAS</td>\n",
              "      <td>1992</td>\n",
              "      <td>NaN</td>\n",
              "      <td>1711959.0</td>\n",
              "      <td>178571.0</td>\n",
              "      <td>958785.0</td>\n",
              "      <td>574603.0</td>\n",
              "      <td>1743022.0</td>\n",
              "      <td>964323.0</td>\n",
              "      <td>483488.0</td>\n",
              "      <td>NaN</td>\n",
              "      <td>145212.0</td>\n",
              "      <td>808.0</td>\n",
              "      <td>33511.0</td>\n",
              "      <td>34632.0</td>\n",
              "      <td>36011.0</td>\n",
              "      <td>27651.0</td>\n",
              "      <td>NaN</td>\n",
              "      <td>NaN</td>\n",
              "      <td>441490.0</td>\n",
              "      <td>210.0</td>\n",
              "      <td>256.0</td>\n",
              "      <td>211.0</td>\n",
              "      <td>NaN</td>\n",
              "    </tr>\n",
              "    <tr>\n",
              "      <th>4</th>\n",
              "      <td>1992_CALIFORNIA</td>\n",
              "      <td>CALIFORNIA</td>\n",
              "      <td>1992</td>\n",
              "      <td>NaN</td>\n",
              "      <td>26260025.0</td>\n",
              "      <td>2072470.0</td>\n",
              "      <td>16546514.0</td>\n",
              "      <td>7641041.0</td>\n",
              "      <td>27138832.0</td>\n",
              "      <td>14358922.0</td>\n",
              "      <td>8520926.0</td>\n",
              "      <td>NaN</td>\n",
              "      <td>2044688.0</td>\n",
              "      <td>59067.0</td>\n",
              "      <td>431763.0</td>\n",
              "      <td>418418.0</td>\n",
              "      <td>363296.0</td>\n",
              "      <td>270675.0</td>\n",
              "      <td>NaN</td>\n",
              "      <td>NaN</td>\n",
              "      <td>5254844.0</td>\n",
              "      <td>208.0</td>\n",
              "      <td>261.0</td>\n",
              "      <td>202.0</td>\n",
              "      <td>NaN</td>\n",
              "    </tr>\n",
              "    <tr>\n",
              "      <th>...</th>\n",
              "      <td>...</td>\n",
              "      <td>...</td>\n",
              "      <td>...</td>\n",
              "      <td>...</td>\n",
              "      <td>...</td>\n",
              "      <td>...</td>\n",
              "      <td>...</td>\n",
              "      <td>...</td>\n",
              "      <td>...</td>\n",
              "      <td>...</td>\n",
              "      <td>...</td>\n",
              "      <td>...</td>\n",
              "      <td>...</td>\n",
              "      <td>...</td>\n",
              "      <td>...</td>\n",
              "      <td>...</td>\n",
              "      <td>...</td>\n",
              "      <td>...</td>\n",
              "      <td>...</td>\n",
              "      <td>...</td>\n",
              "      <td>...</td>\n",
              "      <td>...</td>\n",
              "      <td>...</td>\n",
              "      <td>...</td>\n",
              "      <td>...</td>\n",
              "    </tr>\n",
              "    <tr>\n",
              "      <th>1710</th>\n",
              "      <td>2019_VIRGINIA</td>\n",
              "      <td>VIRGINIA</td>\n",
              "      <td>2019</td>\n",
              "      <td>NaN</td>\n",
              "      <td>NaN</td>\n",
              "      <td>NaN</td>\n",
              "      <td>NaN</td>\n",
              "      <td>NaN</td>\n",
              "      <td>NaN</td>\n",
              "      <td>NaN</td>\n",
              "      <td>NaN</td>\n",
              "      <td>NaN</td>\n",
              "      <td>NaN</td>\n",
              "      <td>NaN</td>\n",
              "      <td>NaN</td>\n",
              "      <td>NaN</td>\n",
              "      <td>NaN</td>\n",
              "      <td>NaN</td>\n",
              "      <td>NaN</td>\n",
              "      <td>NaN</td>\n",
              "      <td>NaN</td>\n",
              "      <td>247.0</td>\n",
              "      <td>287.0</td>\n",
              "      <td>224.0</td>\n",
              "      <td>262.0</td>\n",
              "    </tr>\n",
              "    <tr>\n",
              "      <th>1711</th>\n",
              "      <td>2019_WASHINGTON</td>\n",
              "      <td>WASHINGTON</td>\n",
              "      <td>2019</td>\n",
              "      <td>NaN</td>\n",
              "      <td>NaN</td>\n",
              "      <td>NaN</td>\n",
              "      <td>NaN</td>\n",
              "      <td>NaN</td>\n",
              "      <td>NaN</td>\n",
              "      <td>NaN</td>\n",
              "      <td>NaN</td>\n",
              "      <td>NaN</td>\n",
              "      <td>NaN</td>\n",
              "      <td>NaN</td>\n",
              "      <td>NaN</td>\n",
              "      <td>NaN</td>\n",
              "      <td>NaN</td>\n",
              "      <td>NaN</td>\n",
              "      <td>NaN</td>\n",
              "      <td>NaN</td>\n",
              "      <td>NaN</td>\n",
              "      <td>240.0</td>\n",
              "      <td>286.0</td>\n",
              "      <td>220.0</td>\n",
              "      <td>266.0</td>\n",
              "    </tr>\n",
              "    <tr>\n",
              "      <th>1712</th>\n",
              "      <td>2019_WEST_VIRGINIA</td>\n",
              "      <td>WEST_VIRGINIA</td>\n",
              "      <td>2019</td>\n",
              "      <td>NaN</td>\n",
              "      <td>NaN</td>\n",
              "      <td>NaN</td>\n",
              "      <td>NaN</td>\n",
              "      <td>NaN</td>\n",
              "      <td>NaN</td>\n",
              "      <td>NaN</td>\n",
              "      <td>NaN</td>\n",
              "      <td>NaN</td>\n",
              "      <td>NaN</td>\n",
              "      <td>NaN</td>\n",
              "      <td>NaN</td>\n",
              "      <td>NaN</td>\n",
              "      <td>NaN</td>\n",
              "      <td>NaN</td>\n",
              "      <td>NaN</td>\n",
              "      <td>NaN</td>\n",
              "      <td>NaN</td>\n",
              "      <td>231.0</td>\n",
              "      <td>272.0</td>\n",
              "      <td>213.0</td>\n",
              "      <td>256.0</td>\n",
              "    </tr>\n",
              "    <tr>\n",
              "      <th>1713</th>\n",
              "      <td>2019_WISCONSIN</td>\n",
              "      <td>WISCONSIN</td>\n",
              "      <td>2019</td>\n",
              "      <td>NaN</td>\n",
              "      <td>NaN</td>\n",
              "      <td>NaN</td>\n",
              "      <td>NaN</td>\n",
              "      <td>NaN</td>\n",
              "      <td>NaN</td>\n",
              "      <td>NaN</td>\n",
              "      <td>NaN</td>\n",
              "      <td>NaN</td>\n",
              "      <td>NaN</td>\n",
              "      <td>NaN</td>\n",
              "      <td>NaN</td>\n",
              "      <td>NaN</td>\n",
              "      <td>NaN</td>\n",
              "      <td>NaN</td>\n",
              "      <td>NaN</td>\n",
              "      <td>NaN</td>\n",
              "      <td>NaN</td>\n",
              "      <td>242.0</td>\n",
              "      <td>289.0</td>\n",
              "      <td>220.0</td>\n",
              "      <td>267.0</td>\n",
              "    </tr>\n",
              "    <tr>\n",
              "      <th>1714</th>\n",
              "      <td>2019_WYOMING</td>\n",
              "      <td>WYOMING</td>\n",
              "      <td>2019</td>\n",
              "      <td>NaN</td>\n",
              "      <td>NaN</td>\n",
              "      <td>NaN</td>\n",
              "      <td>NaN</td>\n",
              "      <td>NaN</td>\n",
              "      <td>NaN</td>\n",
              "      <td>NaN</td>\n",
              "      <td>NaN</td>\n",
              "      <td>NaN</td>\n",
              "      <td>NaN</td>\n",
              "      <td>NaN</td>\n",
              "      <td>NaN</td>\n",
              "      <td>NaN</td>\n",
              "      <td>NaN</td>\n",
              "      <td>NaN</td>\n",
              "      <td>NaN</td>\n",
              "      <td>NaN</td>\n",
              "      <td>NaN</td>\n",
              "      <td>246.0</td>\n",
              "      <td>286.0</td>\n",
              "      <td>227.0</td>\n",
              "      <td>265.0</td>\n",
              "    </tr>\n",
              "  </tbody>\n",
              "</table>\n",
              "<p>1715 rows × 25 columns</p>\n",
              "</div>"
            ],
            "text/plain": [
              "             PRIMARY_KEY  ... AVG_READING_8_SCORE\n",
              "0           1992_ALABAMA  ...                 NaN\n",
              "1            1992_ALASKA  ...                 NaN\n",
              "2           1992_ARIZONA  ...                 NaN\n",
              "3          1992_ARKANSAS  ...                 NaN\n",
              "4        1992_CALIFORNIA  ...                 NaN\n",
              "...                  ...  ...                 ...\n",
              "1710       2019_VIRGINIA  ...               262.0\n",
              "1711     2019_WASHINGTON  ...               266.0\n",
              "1712  2019_WEST_VIRGINIA  ...               256.0\n",
              "1713      2019_WISCONSIN  ...               267.0\n",
              "1714        2019_WYOMING  ...               265.0\n",
              "\n",
              "[1715 rows x 25 columns]"
            ]
          },
          "metadata": {
            "tags": []
          },
          "execution_count": 266
        }
      ]
    },
    {
      "cell_type": "code",
      "metadata": {
        "id": "fRblahTLOHTn"
      },
      "source": [
        "for i in df_states2.columns[3:]:\n",
        "  df_states2[i] = df_states2[i].fillna(df_states2.groupby('YEAR')[i].transform('mean'))\n",
        "  df_states2[i] = df_states2[i].fillna(df_states2[i].mean())  "
      ],
      "execution_count": 267,
      "outputs": []
    },
    {
      "cell_type": "code",
      "metadata": {
        "colab": {
          "base_uri": "https://localhost:8080/",
          "height": 211
        },
        "id": "uf-dORxROT6s",
        "outputId": "9d05de29-f475-4e71-cba7-12dca37016f8"
      },
      "source": [
        "df_states2.tail()"
      ],
      "execution_count": 268,
      "outputs": [
        {
          "output_type": "execute_result",
          "data": {
            "text/html": [
              "<div>\n",
              "<style scoped>\n",
              "    .dataframe tbody tr th:only-of-type {\n",
              "        vertical-align: middle;\n",
              "    }\n",
              "\n",
              "    .dataframe tbody tr th {\n",
              "        vertical-align: top;\n",
              "    }\n",
              "\n",
              "    .dataframe thead th {\n",
              "        text-align: right;\n",
              "    }\n",
              "</style>\n",
              "<table border=\"1\" class=\"dataframe\">\n",
              "  <thead>\n",
              "    <tr style=\"text-align: right;\">\n",
              "      <th></th>\n",
              "      <th>PRIMARY_KEY</th>\n",
              "      <th>STATE</th>\n",
              "      <th>YEAR</th>\n",
              "      <th>ENROLL</th>\n",
              "      <th>TOTAL_REVENUE</th>\n",
              "      <th>FEDERAL_REVENUE</th>\n",
              "      <th>STATE_REVENUE</th>\n",
              "      <th>LOCAL_REVENUE</th>\n",
              "      <th>TOTAL_EXPENDITURE</th>\n",
              "      <th>INSTRUCTION_EXPENDITURE</th>\n",
              "      <th>SUPPORT_SERVICES_EXPENDITURE</th>\n",
              "      <th>OTHER_EXPENDITURE</th>\n",
              "      <th>CAPITAL_OUTLAY_EXPENDITURE</th>\n",
              "      <th>GRADES_PK_G</th>\n",
              "      <th>GRADES_KG_G</th>\n",
              "      <th>GRADES_4_G</th>\n",
              "      <th>GRADES_8_G</th>\n",
              "      <th>GRADES_12_G</th>\n",
              "      <th>GRADES_1_8_G</th>\n",
              "      <th>GRADES_9_12_G</th>\n",
              "      <th>GRADES_ALL_G</th>\n",
              "      <th>AVG_MATH_4_SCORE</th>\n",
              "      <th>AVG_MATH_8_SCORE</th>\n",
              "      <th>AVG_READING_4_SCORE</th>\n",
              "      <th>AVG_READING_8_SCORE</th>\n",
              "    </tr>\n",
              "  </thead>\n",
              "  <tbody>\n",
              "    <tr>\n",
              "      <th>1710</th>\n",
              "      <td>2019_VIRGINIA</td>\n",
              "      <td>VIRGINIA</td>\n",
              "      <td>2019</td>\n",
              "      <td>917561.547747</td>\n",
              "      <td>9.097897e+06</td>\n",
              "      <td>767402.047068</td>\n",
              "      <td>4.221979e+06</td>\n",
              "      <td>4.108516e+06</td>\n",
              "      <td>9.202368e+06</td>\n",
              "      <td>4.765951e+06</td>\n",
              "      <td>2.681395e+06</td>\n",
              "      <td>429940.124607</td>\n",
              "      <td>903221.145409</td>\n",
              "      <td>17313.910263</td>\n",
              "      <td>68825.142328</td>\n",
              "      <td>69192.051379</td>\n",
              "      <td>68138.013603</td>\n",
              "      <td>58440.626991</td>\n",
              "      <td>577958.125867</td>\n",
              "      <td>282083.7059</td>\n",
              "      <td>914285.317536</td>\n",
              "      <td>247.0</td>\n",
              "      <td>287.0</td>\n",
              "      <td>224.0</td>\n",
              "      <td>262.0</td>\n",
              "    </tr>\n",
              "    <tr>\n",
              "      <th>1711</th>\n",
              "      <td>2019_WASHINGTON</td>\n",
              "      <td>WASHINGTON</td>\n",
              "      <td>2019</td>\n",
              "      <td>917561.547747</td>\n",
              "      <td>9.097897e+06</td>\n",
              "      <td>767402.047068</td>\n",
              "      <td>4.221979e+06</td>\n",
              "      <td>4.108516e+06</td>\n",
              "      <td>9.202368e+06</td>\n",
              "      <td>4.765951e+06</td>\n",
              "      <td>2.681395e+06</td>\n",
              "      <td>429940.124607</td>\n",
              "      <td>903221.145409</td>\n",
              "      <td>17313.910263</td>\n",
              "      <td>68825.142328</td>\n",
              "      <td>69192.051379</td>\n",
              "      <td>68138.013603</td>\n",
              "      <td>58440.626991</td>\n",
              "      <td>577958.125867</td>\n",
              "      <td>282083.7059</td>\n",
              "      <td>914285.317536</td>\n",
              "      <td>240.0</td>\n",
              "      <td>286.0</td>\n",
              "      <td>220.0</td>\n",
              "      <td>266.0</td>\n",
              "    </tr>\n",
              "    <tr>\n",
              "      <th>1712</th>\n",
              "      <td>2019_WEST_VIRGINIA</td>\n",
              "      <td>WEST_VIRGINIA</td>\n",
              "      <td>2019</td>\n",
              "      <td>917561.547747</td>\n",
              "      <td>9.097897e+06</td>\n",
              "      <td>767402.047068</td>\n",
              "      <td>4.221979e+06</td>\n",
              "      <td>4.108516e+06</td>\n",
              "      <td>9.202368e+06</td>\n",
              "      <td>4.765951e+06</td>\n",
              "      <td>2.681395e+06</td>\n",
              "      <td>429940.124607</td>\n",
              "      <td>903221.145409</td>\n",
              "      <td>17313.910263</td>\n",
              "      <td>68825.142328</td>\n",
              "      <td>69192.051379</td>\n",
              "      <td>68138.013603</td>\n",
              "      <td>58440.626991</td>\n",
              "      <td>577958.125867</td>\n",
              "      <td>282083.7059</td>\n",
              "      <td>914285.317536</td>\n",
              "      <td>231.0</td>\n",
              "      <td>272.0</td>\n",
              "      <td>213.0</td>\n",
              "      <td>256.0</td>\n",
              "    </tr>\n",
              "    <tr>\n",
              "      <th>1713</th>\n",
              "      <td>2019_WISCONSIN</td>\n",
              "      <td>WISCONSIN</td>\n",
              "      <td>2019</td>\n",
              "      <td>917561.547747</td>\n",
              "      <td>9.097897e+06</td>\n",
              "      <td>767402.047068</td>\n",
              "      <td>4.221979e+06</td>\n",
              "      <td>4.108516e+06</td>\n",
              "      <td>9.202368e+06</td>\n",
              "      <td>4.765951e+06</td>\n",
              "      <td>2.681395e+06</td>\n",
              "      <td>429940.124607</td>\n",
              "      <td>903221.145409</td>\n",
              "      <td>17313.910263</td>\n",
              "      <td>68825.142328</td>\n",
              "      <td>69192.051379</td>\n",
              "      <td>68138.013603</td>\n",
              "      <td>58440.626991</td>\n",
              "      <td>577958.125867</td>\n",
              "      <td>282083.7059</td>\n",
              "      <td>914285.317536</td>\n",
              "      <td>242.0</td>\n",
              "      <td>289.0</td>\n",
              "      <td>220.0</td>\n",
              "      <td>267.0</td>\n",
              "    </tr>\n",
              "    <tr>\n",
              "      <th>1714</th>\n",
              "      <td>2019_WYOMING</td>\n",
              "      <td>WYOMING</td>\n",
              "      <td>2019</td>\n",
              "      <td>917561.547747</td>\n",
              "      <td>9.097897e+06</td>\n",
              "      <td>767402.047068</td>\n",
              "      <td>4.221979e+06</td>\n",
              "      <td>4.108516e+06</td>\n",
              "      <td>9.202368e+06</td>\n",
              "      <td>4.765951e+06</td>\n",
              "      <td>2.681395e+06</td>\n",
              "      <td>429940.124607</td>\n",
              "      <td>903221.145409</td>\n",
              "      <td>17313.910263</td>\n",
              "      <td>68825.142328</td>\n",
              "      <td>69192.051379</td>\n",
              "      <td>68138.013603</td>\n",
              "      <td>58440.626991</td>\n",
              "      <td>577958.125867</td>\n",
              "      <td>282083.7059</td>\n",
              "      <td>914285.317536</td>\n",
              "      <td>246.0</td>\n",
              "      <td>286.0</td>\n",
              "      <td>227.0</td>\n",
              "      <td>265.0</td>\n",
              "    </tr>\n",
              "  </tbody>\n",
              "</table>\n",
              "</div>"
            ],
            "text/plain": [
              "             PRIMARY_KEY  ... AVG_READING_8_SCORE\n",
              "1710       2019_VIRGINIA  ...               262.0\n",
              "1711     2019_WASHINGTON  ...               266.0\n",
              "1712  2019_WEST_VIRGINIA  ...               256.0\n",
              "1713      2019_WISCONSIN  ...               267.0\n",
              "1714        2019_WYOMING  ...               265.0\n",
              "\n",
              "[5 rows x 25 columns]"
            ]
          },
          "metadata": {
            "tags": []
          },
          "execution_count": 268
        }
      ]
    },
    {
      "cell_type": "markdown",
      "metadata": {
        "id": "MnlZ3P1mDZbW"
      },
      "source": [
        "**(4)** This time, fill in the missing values by interpolating."
      ]
    },
    {
      "cell_type": "markdown",
      "metadata": {
        "id": "baBJcmPiQiKv"
      },
      "source": [
        "First, We have to sort values than interpolating all each values:"
      ]
    },
    {
      "cell_type": "code",
      "metadata": {
        "id": "Z_bMqmxoDZbW"
      },
      "source": [
        "for i in df_states3.columns[3:]:\n",
        "  df_states3[i]=df_states3[i].fillna(df_states3[i].sort_values().interpolate(method ='linear', limit_direction ='forward'))"
      ],
      "execution_count": 269,
      "outputs": []
    },
    {
      "cell_type": "code",
      "metadata": {
        "colab": {
          "base_uri": "https://localhost:8080/"
        },
        "id": "oIrIBzz4PIyl",
        "outputId": "46b8e926-dbe9-40d1-822a-74e54387f1b1"
      },
      "source": [
        "df_states3.isnull().sum()"
      ],
      "execution_count": 270,
      "outputs": [
        {
          "output_type": "execute_result",
          "data": {
            "text/plain": [
              "PRIMARY_KEY                     0\n",
              "STATE                           0\n",
              "YEAR                            0\n",
              "ENROLL                          0\n",
              "TOTAL_REVENUE                   0\n",
              "FEDERAL_REVENUE                 0\n",
              "STATE_REVENUE                   0\n",
              "LOCAL_REVENUE                   0\n",
              "TOTAL_EXPENDITURE               0\n",
              "INSTRUCTION_EXPENDITURE         0\n",
              "SUPPORT_SERVICES_EXPENDITURE    0\n",
              "OTHER_EXPENDITURE               0\n",
              "CAPITAL_OUTLAY_EXPENDITURE      0\n",
              "GRADES_PK_G                     0\n",
              "GRADES_KG_G                     0\n",
              "GRADES_4_G                      0\n",
              "GRADES_8_G                      0\n",
              "GRADES_12_G                     0\n",
              "GRADES_1_8_G                    0\n",
              "GRADES_9_12_G                   0\n",
              "GRADES_ALL_G                    0\n",
              "AVG_MATH_4_SCORE                0\n",
              "AVG_MATH_8_SCORE                0\n",
              "AVG_READING_4_SCORE             0\n",
              "AVG_READING_8_SCORE             0\n",
              "dtype: int64"
            ]
          },
          "metadata": {
            "tags": []
          },
          "execution_count": 270
        }
      ]
    },
    {
      "cell_type": "markdown",
      "metadata": {
        "id": "yv8s-k-EDZbX"
      },
      "source": [
        "**(5)** Compare your answers on the second, third and fourth questions. Do you notice a meaningful difference?"
      ]
    },
    {
      "cell_type": "markdown",
      "metadata": {
        "id": "XRCg3gxkaKhK"
      },
      "source": [
        "Interpolation is not useful this problem because last approximately 100 row values are the same value. \n",
        "\n",
        "Second answer is more meaningful third. However this time, we think all country has same features, but real life it is not.\n",
        "\n",
        "The most meaningful answer is first. We adjusted for countries to solve the problem. This made the result more specific and closer to the truth."
      ]
    }
  ]
}