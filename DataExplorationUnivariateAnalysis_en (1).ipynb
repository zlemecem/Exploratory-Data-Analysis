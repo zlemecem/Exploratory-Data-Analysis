{
  "nbformat": 4,
  "nbformat_minor": 0,
  "metadata": {
    "kernelspec": {
      "display_name": "Python 3",
      "language": "python",
      "name": "python3"
    },
    "language_info": {
      "codemirror_mode": {
        "name": "ipython",
        "version": 3
      },
      "file_extension": ".py",
      "mimetype": "text/x-python",
      "name": "python",
      "nbconvert_exporter": "python",
      "pygments_lexer": "ipython3",
      "version": "3.8.2"
    },
    "colab": {
      "name": "DataExplorationUnivariateAnalysis_en",
      "provenance": [],
      "collapsed_sections": []
    }
  },
  "cells": [
    {
      "cell_type": "markdown",
      "metadata": {
        "id": "efDm7mOMuvFi"
      },
      "source": [
        "# <font color=blue>Assignments for \"Data Exploration - Univariate Analysis\"</font>"
      ]
    },
    {
      "cell_type": "markdown",
      "metadata": {
        "id": "3qdgwe84uvGK"
      },
      "source": [
        "In this assignment, you will continue to study the data of the `US Education System` ([dataset](https://www.kaggle.com/noriuk/us-education-datasets-unification-project/home)). In this dataset, there is a lot of data on an annual basis. You can reach the explanations of this data from Kaggle again.\n",
        "\n",
        "To complete this assignment, submit the Github link of the Jupyter notebook file containing solutions to the questions below. You can talk to your mentor on your head or ask Slack at office time.\n",
        "\n",
        "First of all, apply the most appropriate one of the techniques for completing the missing values in your previous lesson. In order to answer the following questions, you must overcome the missing data."
      ]
    },
    {
      "cell_type": "code",
      "metadata": {
        "id": "UhBm8sMDzL-I"
      },
      "source": [
        "import numpy as np # linear algebra\n",
        "import pandas as pd\n",
        "import matplotlib.pyplot as plt\n",
        "import matplotlib.pyplot as plt\n",
        "import numpy as np\n",
        "import pandas as pd\n",
        "import warnings\n",
        "from scipy.stats import zscore\n",
        "from scipy.stats.mstats import winsorize\n",
        "warnings.filterwarnings(\"ignore\")\n",
        "plt.rcParams['figure.dpi'] = 100\n",
        "plt.rcParams['figure.figsize'] = (8,5.5)\n",
        "df_states=pd.read_csv('states_all.csv')\n",
        " "
      ],
      "execution_count": 1,
      "outputs": []
    },
    {
      "cell_type": "markdown",
      "metadata": {
        "id": "9BGDj7t3uvGR"
      },
      "source": [
        "**(1)** Interpret the data by making univariate analysis and indicate the points you consider important."
      ]
    },
    {
      "cell_type": "code",
      "metadata": {
        "id": "Fr59osAJuvGT",
        "colab": {
          "base_uri": "https://localhost:8080/",
          "height": 211
        },
        "outputId": "51f78441-5fdc-4369-b089-c7f5e3cee144"
      },
      "source": [
        "df_states.head()"
      ],
      "execution_count": 2,
      "outputs": [
        {
          "output_type": "execute_result",
          "data": {
            "text/html": [
              "<div>\n",
              "<style scoped>\n",
              "    .dataframe tbody tr th:only-of-type {\n",
              "        vertical-align: middle;\n",
              "    }\n",
              "\n",
              "    .dataframe tbody tr th {\n",
              "        vertical-align: top;\n",
              "    }\n",
              "\n",
              "    .dataframe thead th {\n",
              "        text-align: right;\n",
              "    }\n",
              "</style>\n",
              "<table border=\"1\" class=\"dataframe\">\n",
              "  <thead>\n",
              "    <tr style=\"text-align: right;\">\n",
              "      <th></th>\n",
              "      <th>PRIMARY_KEY</th>\n",
              "      <th>STATE</th>\n",
              "      <th>YEAR</th>\n",
              "      <th>ENROLL</th>\n",
              "      <th>TOTAL_REVENUE</th>\n",
              "      <th>FEDERAL_REVENUE</th>\n",
              "      <th>STATE_REVENUE</th>\n",
              "      <th>LOCAL_REVENUE</th>\n",
              "      <th>TOTAL_EXPENDITURE</th>\n",
              "      <th>INSTRUCTION_EXPENDITURE</th>\n",
              "      <th>SUPPORT_SERVICES_EXPENDITURE</th>\n",
              "      <th>OTHER_EXPENDITURE</th>\n",
              "      <th>CAPITAL_OUTLAY_EXPENDITURE</th>\n",
              "      <th>GRADES_PK_G</th>\n",
              "      <th>GRADES_KG_G</th>\n",
              "      <th>GRADES_4_G</th>\n",
              "      <th>GRADES_8_G</th>\n",
              "      <th>GRADES_12_G</th>\n",
              "      <th>GRADES_1_8_G</th>\n",
              "      <th>GRADES_9_12_G</th>\n",
              "      <th>GRADES_ALL_G</th>\n",
              "      <th>AVG_MATH_4_SCORE</th>\n",
              "      <th>AVG_MATH_8_SCORE</th>\n",
              "      <th>AVG_READING_4_SCORE</th>\n",
              "      <th>AVG_READING_8_SCORE</th>\n",
              "    </tr>\n",
              "  </thead>\n",
              "  <tbody>\n",
              "    <tr>\n",
              "      <th>0</th>\n",
              "      <td>1992_ALABAMA</td>\n",
              "      <td>ALABAMA</td>\n",
              "      <td>1992</td>\n",
              "      <td>NaN</td>\n",
              "      <td>2678885.0</td>\n",
              "      <td>304177.0</td>\n",
              "      <td>1659028.0</td>\n",
              "      <td>715680.0</td>\n",
              "      <td>2653798.0</td>\n",
              "      <td>1481703.0</td>\n",
              "      <td>735036.0</td>\n",
              "      <td>NaN</td>\n",
              "      <td>174053.0</td>\n",
              "      <td>8224.0</td>\n",
              "      <td>55460.0</td>\n",
              "      <td>57948.0</td>\n",
              "      <td>58025.0</td>\n",
              "      <td>41167.0</td>\n",
              "      <td>NaN</td>\n",
              "      <td>NaN</td>\n",
              "      <td>731634.0</td>\n",
              "      <td>208.0</td>\n",
              "      <td>252.0</td>\n",
              "      <td>207.0</td>\n",
              "      <td>NaN</td>\n",
              "    </tr>\n",
              "    <tr>\n",
              "      <th>1</th>\n",
              "      <td>1992_ALASKA</td>\n",
              "      <td>ALASKA</td>\n",
              "      <td>1992</td>\n",
              "      <td>NaN</td>\n",
              "      <td>1049591.0</td>\n",
              "      <td>106780.0</td>\n",
              "      <td>720711.0</td>\n",
              "      <td>222100.0</td>\n",
              "      <td>972488.0</td>\n",
              "      <td>498362.0</td>\n",
              "      <td>350902.0</td>\n",
              "      <td>NaN</td>\n",
              "      <td>37451.0</td>\n",
              "      <td>2371.0</td>\n",
              "      <td>10152.0</td>\n",
              "      <td>9748.0</td>\n",
              "      <td>8789.0</td>\n",
              "      <td>6714.0</td>\n",
              "      <td>NaN</td>\n",
              "      <td>NaN</td>\n",
              "      <td>122487.0</td>\n",
              "      <td>NaN</td>\n",
              "      <td>NaN</td>\n",
              "      <td>NaN</td>\n",
              "      <td>NaN</td>\n",
              "    </tr>\n",
              "    <tr>\n",
              "      <th>2</th>\n",
              "      <td>1992_ARIZONA</td>\n",
              "      <td>ARIZONA</td>\n",
              "      <td>1992</td>\n",
              "      <td>NaN</td>\n",
              "      <td>3258079.0</td>\n",
              "      <td>297888.0</td>\n",
              "      <td>1369815.0</td>\n",
              "      <td>1590376.0</td>\n",
              "      <td>3401580.0</td>\n",
              "      <td>1435908.0</td>\n",
              "      <td>1007732.0</td>\n",
              "      <td>NaN</td>\n",
              "      <td>609114.0</td>\n",
              "      <td>2544.0</td>\n",
              "      <td>53497.0</td>\n",
              "      <td>55433.0</td>\n",
              "      <td>49081.0</td>\n",
              "      <td>37410.0</td>\n",
              "      <td>NaN</td>\n",
              "      <td>NaN</td>\n",
              "      <td>673477.0</td>\n",
              "      <td>215.0</td>\n",
              "      <td>265.0</td>\n",
              "      <td>209.0</td>\n",
              "      <td>NaN</td>\n",
              "    </tr>\n",
              "    <tr>\n",
              "      <th>3</th>\n",
              "      <td>1992_ARKANSAS</td>\n",
              "      <td>ARKANSAS</td>\n",
              "      <td>1992</td>\n",
              "      <td>NaN</td>\n",
              "      <td>1711959.0</td>\n",
              "      <td>178571.0</td>\n",
              "      <td>958785.0</td>\n",
              "      <td>574603.0</td>\n",
              "      <td>1743022.0</td>\n",
              "      <td>964323.0</td>\n",
              "      <td>483488.0</td>\n",
              "      <td>NaN</td>\n",
              "      <td>145212.0</td>\n",
              "      <td>808.0</td>\n",
              "      <td>33511.0</td>\n",
              "      <td>34632.0</td>\n",
              "      <td>36011.0</td>\n",
              "      <td>27651.0</td>\n",
              "      <td>NaN</td>\n",
              "      <td>NaN</td>\n",
              "      <td>441490.0</td>\n",
              "      <td>210.0</td>\n",
              "      <td>256.0</td>\n",
              "      <td>211.0</td>\n",
              "      <td>NaN</td>\n",
              "    </tr>\n",
              "    <tr>\n",
              "      <th>4</th>\n",
              "      <td>1992_CALIFORNIA</td>\n",
              "      <td>CALIFORNIA</td>\n",
              "      <td>1992</td>\n",
              "      <td>NaN</td>\n",
              "      <td>26260025.0</td>\n",
              "      <td>2072470.0</td>\n",
              "      <td>16546514.0</td>\n",
              "      <td>7641041.0</td>\n",
              "      <td>27138832.0</td>\n",
              "      <td>14358922.0</td>\n",
              "      <td>8520926.0</td>\n",
              "      <td>NaN</td>\n",
              "      <td>2044688.0</td>\n",
              "      <td>59067.0</td>\n",
              "      <td>431763.0</td>\n",
              "      <td>418418.0</td>\n",
              "      <td>363296.0</td>\n",
              "      <td>270675.0</td>\n",
              "      <td>NaN</td>\n",
              "      <td>NaN</td>\n",
              "      <td>5254844.0</td>\n",
              "      <td>208.0</td>\n",
              "      <td>261.0</td>\n",
              "      <td>202.0</td>\n",
              "      <td>NaN</td>\n",
              "    </tr>\n",
              "  </tbody>\n",
              "</table>\n",
              "</div>"
            ],
            "text/plain": [
              "       PRIMARY_KEY       STATE  ...  AVG_READING_4_SCORE  AVG_READING_8_SCORE\n",
              "0     1992_ALABAMA     ALABAMA  ...                207.0                  NaN\n",
              "1      1992_ALASKA      ALASKA  ...                  NaN                  NaN\n",
              "2     1992_ARIZONA     ARIZONA  ...                209.0                  NaN\n",
              "3    1992_ARKANSAS    ARKANSAS  ...                211.0                  NaN\n",
              "4  1992_CALIFORNIA  CALIFORNIA  ...                202.0                  NaN\n",
              "\n",
              "[5 rows x 25 columns]"
            ]
          },
          "metadata": {
            "tags": []
          },
          "execution_count": 2
        }
      ]
    },
    {
      "cell_type": "code",
      "metadata": {
        "colab": {
          "base_uri": "https://localhost:8080/"
        },
        "id": "I3ZeX_R8DXDB",
        "outputId": "ee9ff83d-256d-4fad-a1f3-1a2613669cf6"
      },
      "source": [
        "df_states.STATE.unique()"
      ],
      "execution_count": 3,
      "outputs": [
        {
          "output_type": "execute_result",
          "data": {
            "text/plain": [
              "array(['ALABAMA', 'ALASKA', 'ARIZONA', 'ARKANSAS', 'CALIFORNIA',\n",
              "       'COLORADO', 'CONNECTICUT', 'DELAWARE', 'DISTRICT_OF_COLUMBIA',\n",
              "       'FLORIDA', 'GEORGIA', 'HAWAII', 'IDAHO', 'ILLINOIS', 'INDIANA',\n",
              "       'IOWA', 'KANSAS', 'KENTUCKY', 'LOUISIANA', 'MAINE', 'MARYLAND',\n",
              "       'MASSACHUSETTS', 'MICHIGAN', 'MINNESOTA', 'MISSISSIPPI',\n",
              "       'MISSOURI', 'MONTANA', 'NEBRASKA', 'NEVADA', 'NEW_HAMPSHIRE',\n",
              "       'NEW_JERSEY', 'NEW_MEXICO', 'NEW_YORK', 'NORTH_CAROLINA',\n",
              "       'NORTH_DAKOTA', 'OHIO', 'OKLAHOMA', 'OREGON', 'PENNSYLVANIA',\n",
              "       'RHODE_ISLAND', 'SOUTH_CAROLINA', 'SOUTH_DAKOTA', 'TENNESSEE',\n",
              "       'TEXAS', 'UTAH', 'VERMONT', 'VIRGINIA', 'WASHINGTON',\n",
              "       'WEST_VIRGINIA', 'WISCONSIN', 'WYOMING', 'DODEA', 'NATIONAL'],\n",
              "      dtype=object)"
            ]
          },
          "metadata": {
            "tags": []
          },
          "execution_count": 3
        }
      ]
    },
    {
      "cell_type": "code",
      "metadata": {
        "id": "ZQk8C_orBv6f"
      },
      "source": [
        "df_states[\"winsorize_total_revenue\"] = winsorize(df_states[\"TOTAL_REVENUE\"], (0, 0.10))\n",
        "df_states[\"winsorize_total_expenditure\"] = winsorize(df_states[\"TOTAL_EXPENDITURE\"], (0, 0.10))\n",
        "df_states[\"winsorize_state_revenue\"] = winsorize(df_states[\"STATE_REVENUE\"], (0, 0.10))"
      ],
      "execution_count": 4,
      "outputs": []
    },
    {
      "cell_type": "code",
      "metadata": {
        "colab": {
          "base_uri": "https://localhost:8080/",
          "height": 895
        },
        "id": "YsNa_kW1_hNW",
        "outputId": "f4c53c89-8997-4b00-dca0-0089087fd248"
      },
      "source": [
        "plt.figure(figsize=(18,15))\n",
        "title_font = {'family': 'arial', 'color': 'darkred','weight': 'bold','size': 13 }\n",
        "axis_font  = {'family': 'arial', 'color': 'darkblue','weight': 'bold','size': 10 }\n",
        "\n",
        "variables = ['TOTAL_REVENUE', 'TOTAL_EXPENDITURE' , 'STATE_REVENUE']\n",
        "winsorize_variables= ['winsorize_total_revenue', 'winsorize_total_expenditure', 'winsorize_state_revenue']\n",
        "\n",
        "for i in range(3):\n",
        "    plt.subplot(3, 3, i+1)\n",
        "    plt.hist(df_states[variables[i]])\n",
        "    plt.title(variables[i], fontdict=title_font)\n",
        "    \n",
        "for i in range(3):\n",
        "    plt.subplot(3, 3, i+4)\n",
        "    plt.hist(df_states[winsorize_variables[i]])\n",
        "    plt.title(winsorize_variables[i], fontdict=title_font)\n",
        "    \n",
        "for i in range(3):\n",
        "    plt.subplot(3, 3, i+7)\n",
        "    plt.hist(np.log(df_states[variables[i]]+1))\n",
        "    plt.title(variables[i] + ' (log transformed)', fontdict=title_font)"
      ],
      "execution_count": 5,
      "outputs": [
        {
          "output_type": "stream",
          "text": [
            "findfont: Font family ['arial'] not found. Falling back to DejaVu Sans.\n"
          ],
          "name": "stderr"
        },
        {
          "output_type": "display_data",
          "data": {
            "image/png": "[encoded data removed]",
            "text/plain": [
              "<Figure size 1296x1080 with 9 Axes>"
            ]
          },
          "metadata": {
            "tags": [],
            "needs_background": "light"
          }
        }
      ]
    },
    {
      "cell_type": "markdown",
      "metadata": {
        "id": "ZtWn_P3DuvGV"
      },
      "source": [
        "**(2)** Consider a state (eg California) and plot the yearly change of total revenues and total spending. Do these two variables change by years? Do you have years of summit and bottom?"
      ]
    },
    {
      "cell_type": "code",
      "metadata": {
        "colab": {
          "base_uri": "https://localhost:8080/",
          "height": 528
        },
        "id": "sCDD5ZuoGMpQ",
        "outputId": "4ff8bf9e-60e3-4a52-a85f-71dc24a91d40"
      },
      "source": [
        "plt.figure(figsize=(15,8))\n",
        "plt.subplot(1,2,1)\n",
        "plt.scatter(df_states[(df_states[\"STATE\"]==\"DELAWARE\")].YEAR,df_states[(df_states[\"STATE\"]==\"DELAWARE\")].TOTAL_EXPENDITURE)\n",
        "plt.title(\"TOTAL EXPENDITURE vs YEAR for DELAWARE\")\n",
        "plt.ylabel(\"Total Expenditure * 10^7\")\n",
        "plt.xlabel(\"Year\")\n",
        "plt.subplot(1,2,2)\n",
        "plt.scatter(df_states[(df_states[\"STATE\"]==\"DELAWARE\")].YEAR,df_states[(df_states[\"STATE\"]==\"DELAWARE\")].TOTAL_REVENUE)\n",
        "plt.title(\"TOTAL REVENUE vs YEAR for DELAWARE\")\n",
        "plt.ylabel(\"Total Revenue * 10^7\")\n",
        "plt.xlabel(\"Year\")\n"
      ],
      "execution_count": 6,
      "outputs": [
        {
          "output_type": "execute_result",
          "data": {
            "text/plain": [
              "Text(0.5, 0, 'Year')"
            ]
          },
          "metadata": {
            "tags": []
          },
          "execution_count": 6
        },
        {
          "output_type": "display_data",
          "data": {
            "image/png": "[encoded data removed]",
            "text/plain": [
              "<Figure size 1080x576 with 2 Axes>"
            ]
          },
          "metadata": {
            "tags": [],
            "needs_background": "light"
          }
        }
      ]
    },
    {
      "cell_type": "markdown",
      "metadata": {
        "id": "08WdWdn4RAdZ"
      },
      "source": [
        "Total Expenditure and Revenue increase year by year same increasing rate. There is a bottom value in 2011 for total expenditure. It must be budget deficit. In 2011, total revenue value is not lower as total expenditure. There is a summit in nearly in 2009 for both features. "
      ]
    },
    {
      "cell_type": "markdown",
      "metadata": {
        "id": "2dclb9cQuvGX"
      },
      "source": [
        "**(3)** In which course are students more successful in your chosen state? Mathematics or reading?"
      ]
    },
    {
      "cell_type": "code",
      "metadata": {
        "colab": {
          "base_uri": "https://localhost:8080/"
        },
        "id": "ofAfszcQniJJ",
        "outputId": "074cd427-f95c-4f9b-e626-df4d132115a9"
      },
      "source": [
        "mathsum=df_states[(df_states[\"STATE\"]==\"DELAWARE\")].AVG_MATH_8_SCORE+df_states[(df_states[\"STATE\"]==\"DELAWARE\")].AVG_MATH_4_SCORE\n",
        "print(\"8. and 4. class students mean score of math course :\", np.mean(mathsum))\n",
        "readingsum=df_states[(df_states[\"STATE\"]==\"DELAWARE\")].AVG_READING_8_SCORE+df_states[(df_states[\"STATE\"]==\"DELAWARE\")].AVG_READING_4_SCORE\n",
        "print(\"8. and 4. class students mean score of reading course :\", np.mean(readingsum))\n"
      ],
      "execution_count": 7,
      "outputs": [
        {
          "output_type": "stream",
          "text": [
            "8. and 4. class students mean score of math course : 516.0\n",
            "8. and 4. class students mean score of reading course : 486.0\n"
          ],
          "name": "stdout"
        }
      ]
    },
    {
      "cell_type": "markdown",
      "metadata": {
        "id": "fW7W2A-jtRvW"
      },
      "source": [
        "Mean of math course degree value is higher than reading course. So students in math couse successful in Delaware. "
      ]
    },
    {
      "cell_type": "markdown",
      "metadata": {
        "id": "3Lhek2nXuvGY"
      },
      "source": [
        "**(4) What is the distribution of mathematics and reading grades?**"
      ]
    },
    {
      "cell_type": "code",
      "metadata": {
        "colab": {
          "base_uri": "https://localhost:8080/",
          "height": 297
        },
        "id": "YlCEZPyUxQyC",
        "outputId": "e3e4711e-b709-4180-bde2-7d04a340ee32"
      },
      "source": [
        "plt.hist(df_states.AVG_MATH_4_SCORE, alpha=0.5, label='math 4 score', color=\"red\") \n",
        "plt.hist(df_states.AVG_MATH_8_SCORE, alpha=0.5, label='math 8 score') \n",
        "plt.hist(df_states.AVG_READING_8_SCORE, alpha=0.5, label='reading 8 score') \n",
        "plt.hist(df_states.AVG_READING_4_SCORE, alpha=0.5, label='reading 4 score') \n",
        "plt.title(\"Math and Reading Scores Distribution\")\n",
        "plt.legend(loc='upper left') "
      ],
      "execution_count": 8,
      "outputs": [
        {
          "output_type": "execute_result",
          "data": {
            "text/plain": [
              "<matplotlib.legend.Legend at 0x7f9210043dd0>"
            ]
          },
          "metadata": {
            "tags": []
          },
          "execution_count": 8
        },
        {
          "output_type": "display_data",
          "data": {
            "image/png": "[encoded data removed]",
            "text/plain": [
              "<Figure size 432x288 with 1 Axes>"
            ]
          },
          "metadata": {
            "tags": [],
            "needs_background": "light"
          }
        }
      ]
    },
    {
      "cell_type": "markdown",
      "metadata": {
        "id": "ELxuRhVluvGa"
      },
      "source": [
        "**(5) You may have noticed that there are many missing values in the mathematics and reading notes. Complete the missing values with mean, median, and interpolation. Compare the impact of these techniques on the distribution of grades.**"
      ]
    },
    {
      "cell_type": "code",
      "metadata": {
        "id": "s-Wo1tQQywgI"
      },
      "source": [
        "df_states1=df_states.copy()\n",
        "df_states2=df_states.copy()\n",
        "df_states3=df_states.copy()\n",
        "from scipy import stats"
      ],
      "execution_count": 9,
      "outputs": []
    },
    {
      "cell_type": "code",
      "metadata": {
        "id": "TiN3Nkv9Q9LV"
      },
      "source": [
        "grades=df_states.columns[21:25]"
      ],
      "execution_count": 10,
      "outputs": []
    },
    {
      "cell_type": "code",
      "metadata": {
        "id": "qsOJ60GRQws0"
      },
      "source": [
        "for i in grades:\n",
        "  df_states1[i] = df_states1[i].fillna(np.mean(df_states1[i].dropna()))\n",
        "  df_states2[i] = df_states2[i].fillna(np.median(df_states2[i].dropna()))\n",
        "  df_states3[i] = df_states3[i].fillna(df_states[i].sort_values().interpolate(method ='linear', limit_direction ='forward'))"
      ],
      "execution_count": 11,
      "outputs": []
    },
    {
      "cell_type": "code",
      "metadata": {
        "colab": {
          "base_uri": "https://localhost:8080/"
        },
        "id": "tLO6_JN6TD7g",
        "outputId": "c08cdf19-6b58-441a-dd3e-32ba884de037"
      },
      "source": [
        "df_states1.isnull().sum()"
      ],
      "execution_count": 12,
      "outputs": [
        {
          "output_type": "execute_result",
          "data": {
            "text/plain": [
              "PRIMARY_KEY                       0\n",
              "STATE                             0\n",
              "YEAR                              0\n",
              "ENROLL                          491\n",
              "TOTAL_REVENUE                   440\n",
              "FEDERAL_REVENUE                 440\n",
              "STATE_REVENUE                   440\n",
              "LOCAL_REVENUE                   440\n",
              "TOTAL_EXPENDITURE               440\n",
              "INSTRUCTION_EXPENDITURE         440\n",
              "SUPPORT_SERVICES_EXPENDITURE    440\n",
              "OTHER_EXPENDITURE               491\n",
              "CAPITAL_OUTLAY_EXPENDITURE      440\n",
              "GRADES_PK_G                     173\n",
              "GRADES_KG_G                      83\n",
              "GRADES_4_G                       83\n",
              "GRADES_8_G                       83\n",
              "GRADES_12_G                      83\n",
              "GRADES_1_8_G                    695\n",
              "GRADES_9_12_G                   644\n",
              "GRADES_ALL_G                     83\n",
              "AVG_MATH_4_SCORE                  0\n",
              "AVG_MATH_8_SCORE                  0\n",
              "AVG_READING_4_SCORE               0\n",
              "AVG_READING_8_SCORE               0\n",
              "winsorize_total_revenue         440\n",
              "winsorize_total_expenditure     440\n",
              "winsorize_state_revenue         440\n",
              "dtype: int64"
            ]
          },
          "metadata": {
            "tags": []
          },
          "execution_count": 12
        }
      ]
    },
    {
      "cell_type": "markdown",
      "metadata": {
        "id": "xAoAfj8YZFPu"
      },
      "source": [
        "So there is no null value for grades."
      ]
    },
    {
      "cell_type": "code",
      "metadata": {
        "colab": {
          "base_uri": "https://localhost:8080/",
          "height": 528
        },
        "id": "XIA0qqrKZAmj",
        "outputId": "e7696f57-6c8d-4891-c92c-338853cb0147"
      },
      "source": [
        "plt.figure(figsize=(25,8))\n",
        "plt.subplot(1,3,1)\n",
        "plt.hist(df_states1.AVG_MATH_4_SCORE, alpha=0.5, label='math 4 score', color=\"red\",bins=20) \n",
        "plt.hist(df_states1.AVG_MATH_8_SCORE, alpha=0.5, label='math 8 score',bins=20) \n",
        "plt.hist(df_states1.AVG_READING_8_SCORE, alpha=0.5, label='reading 8 score',bins=20) \n",
        "plt.hist(df_states1.AVG_READING_4_SCORE, alpha=0.5, label='reading 4 score',bins=20) \n",
        "plt.xlabel(\"Scores\")\n",
        "plt.title(\"Mean Distribution\")\n",
        "plt.legend(loc='upper left') \n",
        "plt.subplot(1,3,2)\n",
        "plt.hist(df_states2.AVG_MATH_4_SCORE, alpha=0.5, label='math 4 score', color=\"red\",bins=20) \n",
        "plt.hist(df_states2.AVG_MATH_8_SCORE, alpha=0.5, label='math 8 score',bins=20) \n",
        "plt.hist(df_states2.AVG_READING_8_SCORE, alpha=0.5, label='reading 8 score',bins=20) \n",
        "plt.hist(df_states2.AVG_READING_4_SCORE, alpha=0.5, label='reading 4 score',bins=20) \n",
        "plt.xlabel(\"Scores\")\n",
        "plt.title(\"Median Distribution\")\n",
        "plt.legend(loc='upper left') \n",
        "plt.subplot(1,3,3)\n",
        "plt.hist(df_states3.AVG_MATH_4_SCORE, alpha=0.5, label='math 4 score', color=\"red\",bins=20) \n",
        "plt.hist(df_states3.AVG_MATH_8_SCORE, alpha=0.5, label='math 8 score',bins=20) \n",
        "plt.hist(df_states3.AVG_READING_8_SCORE, alpha=0.5, label='reading 8 score',bins=20) \n",
        "plt.hist(df_states3.AVG_READING_4_SCORE, alpha=0.5, label='reading 4 score',bins=20) \n",
        "plt.xlabel(\"Scores\")\n",
        "plt.title(\"Interpolate Distribution\")\n",
        "plt.legend(loc='upper left') "
      ],
      "execution_count": 13,
      "outputs": [
        {
          "output_type": "execute_result",
          "data": {
            "text/plain": [
              "<matplotlib.legend.Legend at 0x7f92100bb050>"
            ]
          },
          "metadata": {
            "tags": []
          },
          "execution_count": 13
        },
        {
          "output_type": "display_data",
          "data": {
            "image/png": "[encoded data removed]",
            "text/plain": [
              "<Figure size 1800x576 with 3 Axes>"
            ]
          },
          "metadata": {
            "tags": [],
            "needs_background": "light"
          }
        }
      ]
    },
    {
      "cell_type": "markdown",
      "metadata": {
        "id": "cXIpdsAAPQRl"
      },
      "source": [
        "Scores of mean and median distirubiton like each other. Interpolate is different from them. Interpolation of distributions agglomerates on high scores for all scores."
      ]
    }
  ]
}