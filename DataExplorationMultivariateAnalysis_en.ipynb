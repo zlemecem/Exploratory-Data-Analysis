{
  "nbformat": 4,
  "nbformat_minor": 0,
  "metadata": {
    "kernelspec": {
      "display_name": "Python 3",
      "language": "python",
      "name": "python3"
    },
    "language_info": {
      "codemirror_mode": {
        "name": "ipython",
        "version": 3
      },
      "file_extension": ".py",
      "mimetype": "text/x-python",
      "name": "python",
      "nbconvert_exporter": "python",
      "pygments_lexer": "ipython3",
      "version": "3.8.2"
    },
    "colab": {
      "name": "DataExplorationMultivariateAnalysis_en",
      "provenance": [],
      "collapsed_sections": []
    }
  },
  "cells": [
    {
      "cell_type": "markdown",
      "metadata": {
        "id": "esKRe3BshU_O"
      },
      "source": [
        "# <font color=blue>Assignments for \"Data Exploration - Multivariate Analysis\"</font>"
      ]
    },
    {
      "cell_type": "markdown",
      "metadata": {
        "id": "fYBsRsExhU_p"
      },
      "source": [
        "In this assignment, you will work on the `Students Performance` ([dataset](https://www.kaggle.com/spscientist/students-performance-in-exams/home)). You can reach the explanations of this data from Kaggle again.\n",
        "\n",
        "To complete this assignment, submit the Github link of the Jupyter notebook file containing solutions to the questions below. You can talk to your mentor on your head or ask Slack at office time."
      ]
    },
    {
      "cell_type": "code",
      "metadata": {
        "id": "PUJfq16Lisqe"
      },
      "source": [
        "import matplotlib.pyplot as plt\n",
        "import seaborn as sns\n",
        "import numpy as np\n",
        "import pandas as pd\n",
        "import seaborn as sns\n",
        "import scipy.stats as stats\n",
        "from scipy.stats.mstats import winsorize\n",
        "import warnings"
      ],
      "execution_count": 1,
      "outputs": []
    },
    {
      "cell_type": "code",
      "metadata": {
        "colab": {
          "base_uri": "https://localhost:8080/",
          "height": 191
        },
        "id": "m6z76jx0i0bs",
        "outputId": "6fee75a1-b13f-4d7c-a7c9-106f769917a6"
      },
      "source": [
        "students = pd.read_csv(\"StudentsPerformance.csv\")\n",
        "students.head()"
      ],
      "execution_count": 2,
      "outputs": [
        {
          "output_type": "execute_result",
          "data": {
            "text/html": [
              "<div>\n",
              "<style scoped>\n",
              "    .dataframe tbody tr th:only-of-type {\n",
              "        vertical-align: middle;\n",
              "    }\n",
              "\n",
              "    .dataframe tbody tr th {\n",
              "        vertical-align: top;\n",
              "    }\n",
              "\n",
              "    .dataframe thead th {\n",
              "        text-align: right;\n",
              "    }\n",
              "</style>\n",
              "<table border=\"1\" class=\"dataframe\">\n",
              "  <thead>\n",
              "    <tr style=\"text-align: right;\">\n",
              "      <th></th>\n",
              "      <th>gender</th>\n",
              "      <th>race/ethnicity</th>\n",
              "      <th>parental level of education</th>\n",
              "      <th>lunch</th>\n",
              "      <th>test preparation course</th>\n",
              "      <th>math score</th>\n",
              "      <th>reading score</th>\n",
              "      <th>writing score</th>\n",
              "    </tr>\n",
              "  </thead>\n",
              "  <tbody>\n",
              "    <tr>\n",
              "      <th>0</th>\n",
              "      <td>female</td>\n",
              "      <td>group B</td>\n",
              "      <td>bachelor's degree</td>\n",
              "      <td>standard</td>\n",
              "      <td>none</td>\n",
              "      <td>72</td>\n",
              "      <td>72</td>\n",
              "      <td>74</td>\n",
              "    </tr>\n",
              "    <tr>\n",
              "      <th>1</th>\n",
              "      <td>female</td>\n",
              "      <td>group C</td>\n",
              "      <td>some college</td>\n",
              "      <td>standard</td>\n",
              "      <td>completed</td>\n",
              "      <td>69</td>\n",
              "      <td>90</td>\n",
              "      <td>88</td>\n",
              "    </tr>\n",
              "    <tr>\n",
              "      <th>2</th>\n",
              "      <td>female</td>\n",
              "      <td>group B</td>\n",
              "      <td>master's degree</td>\n",
              "      <td>standard</td>\n",
              "      <td>none</td>\n",
              "      <td>90</td>\n",
              "      <td>95</td>\n",
              "      <td>93</td>\n",
              "    </tr>\n",
              "    <tr>\n",
              "      <th>3</th>\n",
              "      <td>male</td>\n",
              "      <td>group A</td>\n",
              "      <td>associate's degree</td>\n",
              "      <td>free/reduced</td>\n",
              "      <td>none</td>\n",
              "      <td>47</td>\n",
              "      <td>57</td>\n",
              "      <td>44</td>\n",
              "    </tr>\n",
              "    <tr>\n",
              "      <th>4</th>\n",
              "      <td>male</td>\n",
              "      <td>group C</td>\n",
              "      <td>some college</td>\n",
              "      <td>standard</td>\n",
              "      <td>none</td>\n",
              "      <td>76</td>\n",
              "      <td>78</td>\n",
              "      <td>75</td>\n",
              "    </tr>\n",
              "  </tbody>\n",
              "</table>\n",
              "</div>"
            ],
            "text/plain": [
              "   gender race/ethnicity  ... reading score writing score\n",
              "0  female        group B  ...            72            74\n",
              "1  female        group C  ...            90            88\n",
              "2  female        group B  ...            95            93\n",
              "3    male        group A  ...            57            44\n",
              "4    male        group C  ...            78            75\n",
              "\n",
              "[5 rows x 8 columns]"
            ]
          },
          "metadata": {
            "tags": []
          },
          "execution_count": 2
        }
      ]
    },
    {
      "cell_type": "markdown",
      "metadata": {
        "id": "fU9TQj2MhU_s"
      },
      "source": [
        "**(1)** Does the performance in the exams vary according to gender, origin and education level of parents?"
      ]
    },
    {
      "cell_type": "code",
      "metadata": {
        "colab": {
          "base_uri": "https://localhost:8080/",
          "height": 133
        },
        "id": "4qfrQaqj8Htr",
        "outputId": "24f5f795-56f6-4e87-8825-6a944447b4b2"
      },
      "source": [
        "students.groupby(\"gender\").mean().T"
      ],
      "execution_count": 5,
      "outputs": [
        {
          "output_type": "execute_result",
          "data": {
            "text/html": [
              "<div>\n",
              "<style scoped>\n",
              "    .dataframe tbody tr th:only-of-type {\n",
              "        vertical-align: middle;\n",
              "    }\n",
              "\n",
              "    .dataframe tbody tr th {\n",
              "        vertical-align: top;\n",
              "    }\n",
              "\n",
              "    .dataframe thead th {\n",
              "        text-align: right;\n",
              "    }\n",
              "</style>\n",
              "<table border=\"1\" class=\"dataframe\">\n",
              "  <thead>\n",
              "    <tr style=\"text-align: right;\">\n",
              "      <th>gender</th>\n",
              "      <th>female</th>\n",
              "      <th>male</th>\n",
              "    </tr>\n",
              "  </thead>\n",
              "  <tbody>\n",
              "    <tr>\n",
              "      <th>math score</th>\n",
              "      <td>63.633205</td>\n",
              "      <td>68.728216</td>\n",
              "    </tr>\n",
              "    <tr>\n",
              "      <th>reading score</th>\n",
              "      <td>72.608108</td>\n",
              "      <td>65.473029</td>\n",
              "    </tr>\n",
              "    <tr>\n",
              "      <th>writing score</th>\n",
              "      <td>72.467181</td>\n",
              "      <td>63.311203</td>\n",
              "    </tr>\n",
              "  </tbody>\n",
              "</table>\n",
              "</div>"
            ],
            "text/plain": [
              "gender            female       male\n",
              "math score     63.633205  68.728216\n",
              "reading score  72.608108  65.473029\n",
              "writing score  72.467181  63.311203"
            ]
          },
          "metadata": {
            "tags": []
          },
          "execution_count": 5
        }
      ]
    },
    {
      "cell_type": "markdown",
      "metadata": {
        "id": "IdhkiBiu_EtS"
      },
      "source": [
        "**For math scores, female students have lower scores. Male students have higher scores.**\n",
        "\n",
        "**For reading scores, male students have lower score than females.**\n",
        "\n",
        "**For writing scores, female students have higher scores than males.**"
      ]
    },
    {
      "cell_type": "code",
      "metadata": {
        "colab": {
          "base_uri": "https://localhost:8080/",
          "height": 467
        },
        "id": "QecKUcE-9LHU",
        "outputId": "6e9e013a-d2dc-4ff2-ea84-717d5711f127"
      },
      "source": [
        "plt.figure(figsize=(18,5))\n",
        "\n",
        "plt.subplot(1,3,1)\n",
        "sns.barplot(students[\"gender\"], students[\"math score\"])\n",
        "plt.title(\"Gender vs Math Score\")\n",
        "\n",
        "plt.subplot(1,3,2)\n",
        "sns.barplot(students[\"gender\"], students[\"reading score\"])\n",
        "plt.title(\"Gender vs Reading Score\")\n",
        "plt.subplot(1,3,3)\n",
        "sns.barplot(students[\"gender\"], students[\"writing score\"])\n",
        "plt.title(\"Gender vs Writing Score\")\n",
        "plt.show()"
      ],
      "execution_count": 8,
      "outputs": [
        {
          "output_type": "stream",
          "text": [
            "/usr/local/lib/python3.7/dist-packages/seaborn/_decorators.py:43: FutureWarning: Pass the following variables as keyword args: x, y. From version 0.12, the only valid positional argument will be `data`, and passing other arguments without an explicit keyword will result in an error or misinterpretation.\n",
            "  FutureWarning\n",
            "/usr/local/lib/python3.7/dist-packages/seaborn/_decorators.py:43: FutureWarning: Pass the following variables as keyword args: x, y. From version 0.12, the only valid positional argument will be `data`, and passing other arguments without an explicit keyword will result in an error or misinterpretation.\n",
            "  FutureWarning\n",
            "/usr/local/lib/python3.7/dist-packages/seaborn/_decorators.py:43: FutureWarning: Pass the following variables as keyword args: x, y. From version 0.12, the only valid positional argument will be `data`, and passing other arguments without an explicit keyword will result in an error or misinterpretation.\n",
            "  FutureWarning\n"
          ],
          "name": "stderr"
        },
        {
          "output_type": "display_data",
          "data": {
            "image/png": "[encoded data removed]",
            "text/plain": [
              "<Figure size 1296x360 with 3 Axes>"
            ]
          },
          "metadata": {
            "tags": [],
            "needs_background": "light"
          }
        }
      ]
    },
    {
      "cell_type": "code",
      "metadata": {
        "colab": {
          "base_uri": "https://localhost:8080/",
          "height": 133
        },
        "id": "SSQXt6BS-As-",
        "outputId": "5e88b29d-6c42-4178-f345-788da8c5405f"
      },
      "source": [
        "students.groupby(\"race/ethnicity\").mean().T"
      ],
      "execution_count": 9,
      "outputs": [
        {
          "output_type": "execute_result",
          "data": {
            "text/html": [
              "<div>\n",
              "<style scoped>\n",
              "    .dataframe tbody tr th:only-of-type {\n",
              "        vertical-align: middle;\n",
              "    }\n",
              "\n",
              "    .dataframe tbody tr th {\n",
              "        vertical-align: top;\n",
              "    }\n",
              "\n",
              "    .dataframe thead th {\n",
              "        text-align: right;\n",
              "    }\n",
              "</style>\n",
              "<table border=\"1\" class=\"dataframe\">\n",
              "  <thead>\n",
              "    <tr style=\"text-align: right;\">\n",
              "      <th>race/ethnicity</th>\n",
              "      <th>group A</th>\n",
              "      <th>group B</th>\n",
              "      <th>group C</th>\n",
              "      <th>group D</th>\n",
              "      <th>group E</th>\n",
              "    </tr>\n",
              "  </thead>\n",
              "  <tbody>\n",
              "    <tr>\n",
              "      <th>math score</th>\n",
              "      <td>61.629213</td>\n",
              "      <td>63.452632</td>\n",
              "      <td>64.463950</td>\n",
              "      <td>67.362595</td>\n",
              "      <td>73.821429</td>\n",
              "    </tr>\n",
              "    <tr>\n",
              "      <th>reading score</th>\n",
              "      <td>64.674157</td>\n",
              "      <td>67.352632</td>\n",
              "      <td>69.103448</td>\n",
              "      <td>70.030534</td>\n",
              "      <td>73.028571</td>\n",
              "    </tr>\n",
              "    <tr>\n",
              "      <th>writing score</th>\n",
              "      <td>62.674157</td>\n",
              "      <td>65.600000</td>\n",
              "      <td>67.827586</td>\n",
              "      <td>70.145038</td>\n",
              "      <td>71.407143</td>\n",
              "    </tr>\n",
              "  </tbody>\n",
              "</table>\n",
              "</div>"
            ],
            "text/plain": [
              "race/ethnicity    group A    group B    group C    group D    group E\n",
              "math score      61.629213  63.452632  64.463950  67.362595  73.821429\n",
              "reading score   64.674157  67.352632  69.103448  70.030534  73.028571\n",
              "writing score   62.674157  65.600000  67.827586  70.145038  71.407143"
            ]
          },
          "metadata": {
            "tags": []
          },
          "execution_count": 9
        }
      ]
    },
    {
      "cell_type": "markdown",
      "metadata": {
        "id": "2InhVgGL_kZy"
      },
      "source": [
        "**Generally all groups are similar each other.**\n",
        "\n",
        "**Group A has lowest scores in all courses.**\n",
        "\n",
        "**Group E has highest scores in all courses.**"
      ]
    },
    {
      "cell_type": "code",
      "metadata": {
        "colab": {
          "base_uri": "https://localhost:8080/",
          "height": 441
        },
        "id": "D4-IzMsjEZPS",
        "outputId": "7e432c49-5e59-4800-fffd-c8976a50313c"
      },
      "source": [
        "plt.figure(figsize=(30,5))\n",
        "\n",
        "plt.subplot(1,3,1)\n",
        "sns.barplot(students[\"race/ethnicity\"], students[\"math score\"])\n",
        "plt.title(\"Race/ethnicity vs Math Score\")\n",
        "\n",
        "plt.subplot(1,3,2)\n",
        "sns.barplot(students[\"race/ethnicity\"], students[\"reading score\"])\n",
        "plt.title(\"Race/ethnicity vs Reading Score\")\n",
        "plt.subplot(1,3,3)\n",
        "sns.barplot(students[\"race/ethnicity\"], students[\"writing score\"])\n",
        "plt.title(\"Race/ethnicity vs Writing Score\")\n",
        "plt.show()"
      ],
      "execution_count": 11,
      "outputs": [
        {
          "output_type": "stream",
          "text": [
            "/usr/local/lib/python3.7/dist-packages/seaborn/_decorators.py:43: FutureWarning: Pass the following variables as keyword args: x, y. From version 0.12, the only valid positional argument will be `data`, and passing other arguments without an explicit keyword will result in an error or misinterpretation.\n",
            "  FutureWarning\n",
            "/usr/local/lib/python3.7/dist-packages/seaborn/_decorators.py:43: FutureWarning: Pass the following variables as keyword args: x, y. From version 0.12, the only valid positional argument will be `data`, and passing other arguments without an explicit keyword will result in an error or misinterpretation.\n",
            "  FutureWarning\n",
            "/usr/local/lib/python3.7/dist-packages/seaborn/_decorators.py:43: FutureWarning: Pass the following variables as keyword args: x, y. From version 0.12, the only valid positional argument will be `data`, and passing other arguments without an explicit keyword will result in an error or misinterpretation.\n",
            "  FutureWarning\n"
          ],
          "name": "stderr"
        },
        {
          "output_type": "display_data",
          "data": {
            "image/png": "[encoded data removed]",
            "text/plain": [
              "<Figure size 2160x360 with 3 Axes>"
            ]
          },
          "metadata": {
            "tags": [],
            "needs_background": "light"
          }
        }
      ]
    },
    {
      "cell_type": "code",
      "metadata": {
        "colab": {
          "base_uri": "https://localhost:8080/",
          "height": 133
        },
        "id": "9sL-ANfeA56s",
        "outputId": "0482077b-db03-43e0-eb8b-1289c4db3183"
      },
      "source": [
        "students.groupby(\"parental level of education\").mean().T"
      ],
      "execution_count": 12,
      "outputs": [
        {
          "output_type": "execute_result",
          "data": {
            "text/html": [
              "<div>\n",
              "<style scoped>\n",
              "    .dataframe tbody tr th:only-of-type {\n",
              "        vertical-align: middle;\n",
              "    }\n",
              "\n",
              "    .dataframe tbody tr th {\n",
              "        vertical-align: top;\n",
              "    }\n",
              "\n",
              "    .dataframe thead th {\n",
              "        text-align: right;\n",
              "    }\n",
              "</style>\n",
              "<table border=\"1\" class=\"dataframe\">\n",
              "  <thead>\n",
              "    <tr style=\"text-align: right;\">\n",
              "      <th>parental level of education</th>\n",
              "      <th>associate's degree</th>\n",
              "      <th>bachelor's degree</th>\n",
              "      <th>high school</th>\n",
              "      <th>master's degree</th>\n",
              "      <th>some college</th>\n",
              "      <th>some high school</th>\n",
              "    </tr>\n",
              "  </thead>\n",
              "  <tbody>\n",
              "    <tr>\n",
              "      <th>math score</th>\n",
              "      <td>67.882883</td>\n",
              "      <td>69.389831</td>\n",
              "      <td>62.137755</td>\n",
              "      <td>69.745763</td>\n",
              "      <td>67.128319</td>\n",
              "      <td>63.497207</td>\n",
              "    </tr>\n",
              "    <tr>\n",
              "      <th>reading score</th>\n",
              "      <td>70.927928</td>\n",
              "      <td>73.000000</td>\n",
              "      <td>64.704082</td>\n",
              "      <td>75.372881</td>\n",
              "      <td>69.460177</td>\n",
              "      <td>66.938547</td>\n",
              "    </tr>\n",
              "    <tr>\n",
              "      <th>writing score</th>\n",
              "      <td>69.896396</td>\n",
              "      <td>73.381356</td>\n",
              "      <td>62.448980</td>\n",
              "      <td>75.677966</td>\n",
              "      <td>68.840708</td>\n",
              "      <td>64.888268</td>\n",
              "    </tr>\n",
              "  </tbody>\n",
              "</table>\n",
              "</div>"
            ],
            "text/plain": [
              "parental level of education  associate's degree  ...  some high school\n",
              "math score                            67.882883  ...         63.497207\n",
              "reading score                         70.927928  ...         66.938547\n",
              "writing score                         69.896396  ...         64.888268\n",
              "\n",
              "[3 rows x 6 columns]"
            ]
          },
          "metadata": {
            "tags": []
          },
          "execution_count": 12
        }
      ]
    },
    {
      "cell_type": "markdown",
      "metadata": {
        "id": "DcGZaB2BBaMb"
      },
      "source": [
        "**Students whom parents have high school degree, has lowest mean scores than others.** \n",
        "\n",
        "**For math scores, associate degree has highest mean scores.**\n",
        "\n",
        "**For reading and writing scores, master's degree has highest mean scores.**"
      ]
    },
    {
      "cell_type": "code",
      "metadata": {
        "colab": {
          "base_uri": "https://localhost:8080/",
          "height": 455
        },
        "id": "rhWAXF3FEaiJ",
        "outputId": "e27ec3d1-4221-496b-8f24-1f23f5e9c54f"
      },
      "source": [
        "plt.figure(figsize=(30,5))\n",
        "\n",
        "plt.subplot(1,3,1)\n",
        "sns.barplot(students[\"parental level of education\"], students[\"math score\"])\n",
        "plt.title(\"Parental level of education vs \\n Math Mean Score\")\n",
        "\n",
        "plt.subplot(1,3,2)\n",
        "sns.barplot(students[\"parental level of education\"], students[\"reading score\"])\n",
        "plt.title(\"Parental level of education vs \\n  Reading Mean Score\")\n",
        "plt.subplot(1,3,3)\n",
        "sns.barplot(students[\"parental level of education\"], students[\"writing score\"])\n",
        "plt.title(\"Parental level of education vs \\n Writing Mean Score\")\n",
        "plt.show()"
      ],
      "execution_count": 14,
      "outputs": [
        {
          "output_type": "stream",
          "text": [
            "/usr/local/lib/python3.7/dist-packages/seaborn/_decorators.py:43: FutureWarning: Pass the following variables as keyword args: x, y. From version 0.12, the only valid positional argument will be `data`, and passing other arguments without an explicit keyword will result in an error or misinterpretation.\n",
            "  FutureWarning\n",
            "/usr/local/lib/python3.7/dist-packages/seaborn/_decorators.py:43: FutureWarning: Pass the following variables as keyword args: x, y. From version 0.12, the only valid positional argument will be `data`, and passing other arguments without an explicit keyword will result in an error or misinterpretation.\n",
            "  FutureWarning\n",
            "/usr/local/lib/python3.7/dist-packages/seaborn/_decorators.py:43: FutureWarning: Pass the following variables as keyword args: x, y. From version 0.12, the only valid positional argument will be `data`, and passing other arguments without an explicit keyword will result in an error or misinterpretation.\n",
            "  FutureWarning\n"
          ],
          "name": "stderr"
        },
        {
          "output_type": "display_data",
          "data": {
            "image/png": "[encoded data removed]",
            "text/plain": [
              "<Figure size 2160x360 with 3 Axes>"
            ]
          },
          "metadata": {
            "tags": [],
            "needs_background": "light"
          }
        }
      ]
    },
    {
      "cell_type": "markdown",
      "metadata": {
        "id": "7AuT93Z1hU_w"
      },
      "source": [
        "**(2)** Does lunch type have a relationship with exam performances? How can you explain this, if any?"
      ]
    },
    {
      "cell_type": "code",
      "metadata": {
        "colab": {
          "base_uri": "https://localhost:8080/",
          "height": 133
        },
        "id": "A0HE-6e6Iphg",
        "outputId": "722a4527-4811-43c8-b79b-c0cca98513ae"
      },
      "source": [
        "students.groupby(\"lunch\").mean().T"
      ],
      "execution_count": 15,
      "outputs": [
        {
          "output_type": "execute_result",
          "data": {
            "text/html": [
              "<div>\n",
              "<style scoped>\n",
              "    .dataframe tbody tr th:only-of-type {\n",
              "        vertical-align: middle;\n",
              "    }\n",
              "\n",
              "    .dataframe tbody tr th {\n",
              "        vertical-align: top;\n",
              "    }\n",
              "\n",
              "    .dataframe thead th {\n",
              "        text-align: right;\n",
              "    }\n",
              "</style>\n",
              "<table border=\"1\" class=\"dataframe\">\n",
              "  <thead>\n",
              "    <tr style=\"text-align: right;\">\n",
              "      <th>lunch</th>\n",
              "      <th>free/reduced</th>\n",
              "      <th>standard</th>\n",
              "    </tr>\n",
              "  </thead>\n",
              "  <tbody>\n",
              "    <tr>\n",
              "      <th>math score</th>\n",
              "      <td>58.921127</td>\n",
              "      <td>70.034109</td>\n",
              "    </tr>\n",
              "    <tr>\n",
              "      <th>reading score</th>\n",
              "      <td>64.653521</td>\n",
              "      <td>71.654264</td>\n",
              "    </tr>\n",
              "    <tr>\n",
              "      <th>writing score</th>\n",
              "      <td>63.022535</td>\n",
              "      <td>70.823256</td>\n",
              "    </tr>\n",
              "  </tbody>\n",
              "</table>\n",
              "</div>"
            ],
            "text/plain": [
              "lunch          free/reduced   standard\n",
              "math score        58.921127  70.034109\n",
              "reading score     64.653521  71.654264\n",
              "writing score     63.022535  70.823256"
            ]
          },
          "metadata": {
            "tags": []
          },
          "execution_count": 15
        }
      ]
    },
    {
      "cell_type": "markdown",
      "metadata": {
        "id": "vBqQELsqIV7w"
      },
      "source": [
        "**In all courses, free/reduced lunch type has lowest scores.**"
      ]
    },
    {
      "cell_type": "markdown",
      "metadata": {
        "id": "YiOvYIOmMcLG"
      },
      "source": [
        "**Standard lunch type has almost same scores for all courses.**"
      ]
    },
    {
      "cell_type": "code",
      "metadata": {
        "id": "sIORCSAuhmS8",
        "colab": {
          "base_uri": "https://localhost:8080/",
          "height": 467
        },
        "outputId": "49f9cf8a-bcbc-423b-ca5a-1627549cb375"
      },
      "source": [
        "plt.figure(figsize=(18,5))\n",
        "\n",
        "plt.subplot(1,3,1)\n",
        "sns.barplot(students[\"lunch\"], students[\"math score\"])\n",
        "plt.title(\"Lunch and math score\")\n",
        "\n",
        "plt.subplot(1,3,2)\n",
        "sns.barplot(students[\"lunch\"], students[\"reading score\"])\n",
        "plt.title(\"Lunch and reading score\")\n",
        "\n",
        "plt.subplot(1,3,3)\n",
        "sns.barplot(students[\"lunch\"], students[\"writing score\"])\n",
        "plt.title(\"Lunch and writing score\")\n",
        "plt.show()"
      ],
      "execution_count": 16,
      "outputs": [
        {
          "output_type": "stream",
          "text": [
            "/usr/local/lib/python3.7/dist-packages/seaborn/_decorators.py:43: FutureWarning: Pass the following variables as keyword args: x, y. From version 0.12, the only valid positional argument will be `data`, and passing other arguments without an explicit keyword will result in an error or misinterpretation.\n",
            "  FutureWarning\n",
            "/usr/local/lib/python3.7/dist-packages/seaborn/_decorators.py:43: FutureWarning: Pass the following variables as keyword args: x, y. From version 0.12, the only valid positional argument will be `data`, and passing other arguments without an explicit keyword will result in an error or misinterpretation.\n",
            "  FutureWarning\n",
            "/usr/local/lib/python3.7/dist-packages/seaborn/_decorators.py:43: FutureWarning: Pass the following variables as keyword args: x, y. From version 0.12, the only valid positional argument will be `data`, and passing other arguments without an explicit keyword will result in an error or misinterpretation.\n",
            "  FutureWarning\n"
          ],
          "name": "stderr"
        },
        {
          "output_type": "display_data",
          "data": {
            "image/png": "[encoded data removed]",
            "text/plain": [
              "<Figure size 1296x360 with 3 Axes>"
            ]
          },
          "metadata": {
            "tags": [],
            "needs_background": "light"
          }
        }
      ]
    },
    {
      "cell_type": "code",
      "metadata": {
        "id": "1Iuq4CU4I0WX"
      },
      "source": [
        "# Test whether group differences are significant.\n",
        "student = students[\"lunch\"].unique()\n",
        "lunchstu = students.groupby(\"lunch\")"
      ],
      "execution_count": 20,
      "outputs": []
    },
    {
      "cell_type": "code",
      "metadata": {
        "colab": {
          "base_uri": "https://localhost:8080/",
          "height": 242
        },
        "id": "burWU4yPJDDh",
        "outputId": "18d7ad12-7b92-4c65-f10b-11fdb8555939"
      },
      "source": [
        "pd.options.display.float_format = '{:.15f}'.format\n",
        "for var in [\"math score\", \"reading score\", \"writing score\"]:\n",
        "    comparison = pd.DataFrame(columns=['group_1', 'group_2','statistic', 'p_value'])\n",
        "    print(\"For the sake of comparison {}\".format(var),end='')\n",
        "    for i in range(0, len(student)):\n",
        "        for j in range(i+1, len(student)):\n",
        "            ttest = stats.ttest_ind(students[students[\"lunch\"]==student[i]][var], \n",
        "                                students[students[\"lunch\"]==student[j]][var])\n",
        "            group_1 = student[i]\n",
        "            group_2 = student[j]\n",
        "            statistic = ttest[0]\n",
        "            p_value = ttest[1]\n",
        "            \n",
        "            comparison = comparison.append({\"group_1\" : group_1 ,\n",
        "                                                  \"group_2\" : group_2 ,\n",
        "                                                  \"statistic\": statistic , \n",
        "                                                  \"p_value\" : p_value}, ignore_index=True)\n",
        "    display(comparison)"
      ],
      "execution_count": 21,
      "outputs": [
        {
          "output_type": "stream",
          "text": [
            "For the sake of comparison math score"
          ],
          "name": "stdout"
        },
        {
          "output_type": "display_data",
          "data": {
            "text/html": [
              "<div>\n",
              "<style scoped>\n",
              "    .dataframe tbody tr th:only-of-type {\n",
              "        vertical-align: middle;\n",
              "    }\n",
              "\n",
              "    .dataframe tbody tr th {\n",
              "        vertical-align: top;\n",
              "    }\n",
              "\n",
              "    .dataframe thead th {\n",
              "        text-align: right;\n",
              "    }\n",
              "</style>\n",
              "<table border=\"1\" class=\"dataframe\">\n",
              "  <thead>\n",
              "    <tr style=\"text-align: right;\">\n",
              "      <th></th>\n",
              "      <th>group_1</th>\n",
              "      <th>group_2</th>\n",
              "      <th>statistic</th>\n",
              "      <th>p_value</th>\n",
              "    </tr>\n",
              "  </thead>\n",
              "  <tbody>\n",
              "    <tr>\n",
              "      <th>0</th>\n",
              "      <td>standard</td>\n",
              "      <td>free/reduced</td>\n",
              "      <td>11.837180472914612</td>\n",
              "      <td>0.000000000000000</td>\n",
              "    </tr>\n",
              "  </tbody>\n",
              "</table>\n",
              "</div>"
            ],
            "text/plain": [
              "    group_1       group_2          statistic           p_value\n",
              "0  standard  free/reduced 11.837180472914612 0.000000000000000"
            ]
          },
          "metadata": {
            "tags": []
          }
        },
        {
          "output_type": "stream",
          "text": [
            "For the sake of comparison reading score"
          ],
          "name": "stdout"
        },
        {
          "output_type": "display_data",
          "data": {
            "text/html": [
              "<div>\n",
              "<style scoped>\n",
              "    .dataframe tbody tr th:only-of-type {\n",
              "        vertical-align: middle;\n",
              "    }\n",
              "\n",
              "    .dataframe tbody tr th {\n",
              "        vertical-align: top;\n",
              "    }\n",
              "\n",
              "    .dataframe thead th {\n",
              "        text-align: right;\n",
              "    }\n",
              "</style>\n",
              "<table border=\"1\" class=\"dataframe\">\n",
              "  <thead>\n",
              "    <tr style=\"text-align: right;\">\n",
              "      <th></th>\n",
              "      <th>group_1</th>\n",
              "      <th>group_2</th>\n",
              "      <th>statistic</th>\n",
              "      <th>p_value</th>\n",
              "    </tr>\n",
              "  </thead>\n",
              "  <tbody>\n",
              "    <tr>\n",
              "      <th>0</th>\n",
              "      <td>standard</td>\n",
              "      <td>free/reduced</td>\n",
              "      <td>7.451056467473455</td>\n",
              "      <td>0.000000000000200</td>\n",
              "    </tr>\n",
              "  </tbody>\n",
              "</table>\n",
              "</div>"
            ],
            "text/plain": [
              "    group_1       group_2         statistic           p_value\n",
              "0  standard  free/reduced 7.451056467473455 0.000000000000200"
            ]
          },
          "metadata": {
            "tags": []
          }
        },
        {
          "output_type": "stream",
          "text": [
            "For the sake of comparison writing score"
          ],
          "name": "stdout"
        },
        {
          "output_type": "display_data",
          "data": {
            "text/html": [
              "<div>\n",
              "<style scoped>\n",
              "    .dataframe tbody tr th:only-of-type {\n",
              "        vertical-align: middle;\n",
              "    }\n",
              "\n",
              "    .dataframe tbody tr th {\n",
              "        vertical-align: top;\n",
              "    }\n",
              "\n",
              "    .dataframe thead th {\n",
              "        text-align: right;\n",
              "    }\n",
              "</style>\n",
              "<table border=\"1\" class=\"dataframe\">\n",
              "  <thead>\n",
              "    <tr style=\"text-align: right;\">\n",
              "      <th></th>\n",
              "      <th>group_1</th>\n",
              "      <th>group_2</th>\n",
              "      <th>statistic</th>\n",
              "      <th>p_value</th>\n",
              "    </tr>\n",
              "  </thead>\n",
              "  <tbody>\n",
              "    <tr>\n",
              "      <th>0</th>\n",
              "      <td>standard</td>\n",
              "      <td>free/reduced</td>\n",
              "      <td>8.009784197834758</td>\n",
              "      <td>0.000000000000003</td>\n",
              "    </tr>\n",
              "  </tbody>\n",
              "</table>\n",
              "</div>"
            ],
            "text/plain": [
              "    group_1       group_2         statistic           p_value\n",
              "0  standard  free/reduced 8.009784197834758 0.000000000000003"
            ]
          },
          "metadata": {
            "tags": []
          }
        }
      ]
    },
    {
      "cell_type": "markdown",
      "metadata": {
        "id": "HA2RhzVaKG95"
      },
      "source": [
        "**Math, reading, and writing scores have relationship with lunch type because of p value is so low.(<0.05)**"
      ]
    },
    {
      "cell_type": "markdown",
      "metadata": {
        "id": "uqMuAF-MhU_z"
      },
      "source": [
        "**(3)** Does the preparation courses have an impact on exam performance?"
      ]
    },
    {
      "cell_type": "code",
      "metadata": {
        "id": "lwnIPcfphU_0",
        "colab": {
          "base_uri": "https://localhost:8080/",
          "height": 191
        },
        "outputId": "75b3db61-5cf6-4380-a2f5-be82cbfbd681"
      },
      "source": [
        "students.head()"
      ],
      "execution_count": 22,
      "outputs": [
        {
          "output_type": "execute_result",
          "data": {
            "text/html": [
              "<div>\n",
              "<style scoped>\n",
              "    .dataframe tbody tr th:only-of-type {\n",
              "        vertical-align: middle;\n",
              "    }\n",
              "\n",
              "    .dataframe tbody tr th {\n",
              "        vertical-align: top;\n",
              "    }\n",
              "\n",
              "    .dataframe thead th {\n",
              "        text-align: right;\n",
              "    }\n",
              "</style>\n",
              "<table border=\"1\" class=\"dataframe\">\n",
              "  <thead>\n",
              "    <tr style=\"text-align: right;\">\n",
              "      <th></th>\n",
              "      <th>gender</th>\n",
              "      <th>race/ethnicity</th>\n",
              "      <th>parental level of education</th>\n",
              "      <th>lunch</th>\n",
              "      <th>test preparation course</th>\n",
              "      <th>math score</th>\n",
              "      <th>reading score</th>\n",
              "      <th>writing score</th>\n",
              "    </tr>\n",
              "  </thead>\n",
              "  <tbody>\n",
              "    <tr>\n",
              "      <th>0</th>\n",
              "      <td>female</td>\n",
              "      <td>group B</td>\n",
              "      <td>bachelor's degree</td>\n",
              "      <td>standard</td>\n",
              "      <td>none</td>\n",
              "      <td>72</td>\n",
              "      <td>72</td>\n",
              "      <td>74</td>\n",
              "    </tr>\n",
              "    <tr>\n",
              "      <th>1</th>\n",
              "      <td>female</td>\n",
              "      <td>group C</td>\n",
              "      <td>some college</td>\n",
              "      <td>standard</td>\n",
              "      <td>completed</td>\n",
              "      <td>69</td>\n",
              "      <td>90</td>\n",
              "      <td>88</td>\n",
              "    </tr>\n",
              "    <tr>\n",
              "      <th>2</th>\n",
              "      <td>female</td>\n",
              "      <td>group B</td>\n",
              "      <td>master's degree</td>\n",
              "      <td>standard</td>\n",
              "      <td>none</td>\n",
              "      <td>90</td>\n",
              "      <td>95</td>\n",
              "      <td>93</td>\n",
              "    </tr>\n",
              "    <tr>\n",
              "      <th>3</th>\n",
              "      <td>male</td>\n",
              "      <td>group A</td>\n",
              "      <td>associate's degree</td>\n",
              "      <td>free/reduced</td>\n",
              "      <td>none</td>\n",
              "      <td>47</td>\n",
              "      <td>57</td>\n",
              "      <td>44</td>\n",
              "    </tr>\n",
              "    <tr>\n",
              "      <th>4</th>\n",
              "      <td>male</td>\n",
              "      <td>group C</td>\n",
              "      <td>some college</td>\n",
              "      <td>standard</td>\n",
              "      <td>none</td>\n",
              "      <td>76</td>\n",
              "      <td>78</td>\n",
              "      <td>75</td>\n",
              "    </tr>\n",
              "  </tbody>\n",
              "</table>\n",
              "</div>"
            ],
            "text/plain": [
              "   gender race/ethnicity  ... reading score writing score\n",
              "0  female        group B  ...            72            74\n",
              "1  female        group C  ...            90            88\n",
              "2  female        group B  ...            95            93\n",
              "3    male        group A  ...            57            44\n",
              "4    male        group C  ...            78            75\n",
              "\n",
              "[5 rows x 8 columns]"
            ]
          },
          "metadata": {
            "tags": []
          },
          "execution_count": 22
        }
      ]
    },
    {
      "cell_type": "code",
      "metadata": {
        "id": "WJmGptFmdaQl"
      },
      "source": [
        "course = students[\"test preparation course\"].unique()\n",
        "courseg = students.groupby(\"test preparation course\")"
      ],
      "execution_count": 23,
      "outputs": []
    },
    {
      "cell_type": "code",
      "metadata": {
        "colab": {
          "base_uri": "https://localhost:8080/",
          "height": 242
        },
        "id": "-Anz5NPbdlK2",
        "outputId": "ffb38317-4672-4699-934b-faecab3a5cb4"
      },
      "source": [
        "pd.options.display.float_format = '{:.15f}'.format\n",
        "for var in [\"math score\", \"reading score\", \"writing score\"]:\n",
        "    comparison = pd.DataFrame(columns=['group_1', 'group_2','statistic', 'p_value'])\n",
        "    print(\"For the sake of comparison {}\".format(var),end='')\n",
        "    for i in range(0, len(course)):\n",
        "        for j in range(i+1, len(course)):\n",
        "            ttest = stats.ttest_ind(students[students[\"test preparation course\"]==course[i]][var], \n",
        "                                students[students[\"test preparation course\"]==course[j]][var])\n",
        "            group_1 = course[i]\n",
        "            group_2 = course[j]\n",
        "            statistic = ttest[0]\n",
        "            p_value = ttest[1]\n",
        "            \n",
        "            comparison = comparison.append({\"group_1\" : group_1 ,\n",
        "                                                  \"group_2\" : group_2 ,\n",
        "                                                  \"statistic\": statistic , \n",
        "                                                  \"p_value\" : p_value}, ignore_index=True)\n",
        "    display(comparison)"
      ],
      "execution_count": 24,
      "outputs": [
        {
          "output_type": "stream",
          "text": [
            "For the sake of comparison math score"
          ],
          "name": "stdout"
        },
        {
          "output_type": "display_data",
          "data": {
            "text/html": [
              "<div>\n",
              "<style scoped>\n",
              "    .dataframe tbody tr th:only-of-type {\n",
              "        vertical-align: middle;\n",
              "    }\n",
              "\n",
              "    .dataframe tbody tr th {\n",
              "        vertical-align: top;\n",
              "    }\n",
              "\n",
              "    .dataframe thead th {\n",
              "        text-align: right;\n",
              "    }\n",
              "</style>\n",
              "<table border=\"1\" class=\"dataframe\">\n",
              "  <thead>\n",
              "    <tr style=\"text-align: right;\">\n",
              "      <th></th>\n",
              "      <th>group_1</th>\n",
              "      <th>group_2</th>\n",
              "      <th>statistic</th>\n",
              "      <th>p_value</th>\n",
              "    </tr>\n",
              "  </thead>\n",
              "  <tbody>\n",
              "    <tr>\n",
              "      <th>0</th>\n",
              "      <td>none</td>\n",
              "      <td>completed</td>\n",
              "      <td>-5.704616417349102</td>\n",
              "      <td>0.000000015359135</td>\n",
              "    </tr>\n",
              "  </tbody>\n",
              "</table>\n",
              "</div>"
            ],
            "text/plain": [
              "  group_1    group_2          statistic           p_value\n",
              "0    none  completed -5.704616417349102 0.000000015359135"
            ]
          },
          "metadata": {
            "tags": []
          }
        },
        {
          "output_type": "stream",
          "text": [
            "For the sake of comparison reading score"
          ],
          "name": "stdout"
        },
        {
          "output_type": "display_data",
          "data": {
            "text/html": [
              "<div>\n",
              "<style scoped>\n",
              "    .dataframe tbody tr th:only-of-type {\n",
              "        vertical-align: middle;\n",
              "    }\n",
              "\n",
              "    .dataframe tbody tr th {\n",
              "        vertical-align: top;\n",
              "    }\n",
              "\n",
              "    .dataframe thead th {\n",
              "        text-align: right;\n",
              "    }\n",
              "</style>\n",
              "<table border=\"1\" class=\"dataframe\">\n",
              "  <thead>\n",
              "    <tr style=\"text-align: right;\">\n",
              "      <th></th>\n",
              "      <th>group_1</th>\n",
              "      <th>group_2</th>\n",
              "      <th>statistic</th>\n",
              "      <th>p_value</th>\n",
              "    </tr>\n",
              "  </thead>\n",
              "  <tbody>\n",
              "    <tr>\n",
              "      <th>0</th>\n",
              "      <td>none</td>\n",
              "      <td>completed</td>\n",
              "      <td>-7.871663538941468</td>\n",
              "      <td>0.000000000000009</td>\n",
              "    </tr>\n",
              "  </tbody>\n",
              "</table>\n",
              "</div>"
            ],
            "text/plain": [
              "  group_1    group_2          statistic           p_value\n",
              "0    none  completed -7.871663538941468 0.000000000000009"
            ]
          },
          "metadata": {
            "tags": []
          }
        },
        {
          "output_type": "stream",
          "text": [
            "For the sake of comparison writing score"
          ],
          "name": "stdout"
        },
        {
          "output_type": "display_data",
          "data": {
            "text/html": [
              "<div>\n",
              "<style scoped>\n",
              "    .dataframe tbody tr th:only-of-type {\n",
              "        vertical-align: middle;\n",
              "    }\n",
              "\n",
              "    .dataframe tbody tr th {\n",
              "        vertical-align: top;\n",
              "    }\n",
              "\n",
              "    .dataframe thead th {\n",
              "        text-align: right;\n",
              "    }\n",
              "</style>\n",
              "<table border=\"1\" class=\"dataframe\">\n",
              "  <thead>\n",
              "    <tr style=\"text-align: right;\">\n",
              "      <th></th>\n",
              "      <th>group_1</th>\n",
              "      <th>group_2</th>\n",
              "      <th>statistic</th>\n",
              "      <th>p_value</th>\n",
              "    </tr>\n",
              "  </thead>\n",
              "  <tbody>\n",
              "    <tr>\n",
              "      <th>0</th>\n",
              "      <td>none</td>\n",
              "      <td>completed</td>\n",
              "      <td>-10.409173436808748</td>\n",
              "      <td>0.000000000000000</td>\n",
              "    </tr>\n",
              "  </tbody>\n",
              "</table>\n",
              "</div>"
            ],
            "text/plain": [
              "  group_1    group_2           statistic           p_value\n",
              "0    none  completed -10.409173436808748 0.000000000000000"
            ]
          },
          "metadata": {
            "tags": []
          }
        }
      ]
    },
    {
      "cell_type": "markdown",
      "metadata": {
        "id": "IA-1H39elnhV"
      },
      "source": [
        "**Math, reading, and writing scores have relationship with test preparation course because of p value is so low.**"
      ]
    },
    {
      "cell_type": "code",
      "metadata": {
        "colab": {
          "base_uri": "https://localhost:8080/",
          "height": 467
        },
        "id": "KA5iqgj_ZPGk",
        "outputId": "3aef807b-5a5f-4e86-bc6e-cad747cbe4e7"
      },
      "source": [
        "plt.figure(figsize=(18,5))\n",
        "\n",
        "plt.subplot(1,3,1)\n",
        "sns.barplot(students[\"test preparation course\"], students[\"math score\"])\n",
        "plt.title(\"Test preparation course vs Math\")\n",
        "\n",
        "plt.subplot(1,3,2)\n",
        "sns.barplot(students[\"test preparation course\"], students[\"reading score\"])\n",
        "plt.title(\"Test preparation course vs Reading\")\n",
        "\n",
        "plt.subplot(1,3,3)\n",
        "sns.barplot(students[\"test preparation course\"], students[\"writing score\"])\n",
        "plt.title(\"Test preparation course vs Writing\")\n",
        "\n",
        "plt.show()"
      ],
      "execution_count": 26,
      "outputs": [
        {
          "output_type": "stream",
          "text": [
            "/usr/local/lib/python3.7/dist-packages/seaborn/_decorators.py:43: FutureWarning: Pass the following variables as keyword args: x, y. From version 0.12, the only valid positional argument will be `data`, and passing other arguments without an explicit keyword will result in an error or misinterpretation.\n",
            "  FutureWarning\n",
            "/usr/local/lib/python3.7/dist-packages/seaborn/_decorators.py:43: FutureWarning: Pass the following variables as keyword args: x, y. From version 0.12, the only valid positional argument will be `data`, and passing other arguments without an explicit keyword will result in an error or misinterpretation.\n",
            "  FutureWarning\n",
            "/usr/local/lib/python3.7/dist-packages/seaborn/_decorators.py:43: FutureWarning: Pass the following variables as keyword args: x, y. From version 0.12, the only valid positional argument will be `data`, and passing other arguments without an explicit keyword will result in an error or misinterpretation.\n",
            "  FutureWarning\n"
          ],
          "name": "stderr"
        },
        {
          "output_type": "display_data",
          "data": {
            "image/png": "[encoded data removed]",
            "text/plain": [
              "<Figure size 1296x360 with 3 Axes>"
            ]
          },
          "metadata": {
            "tags": [],
            "needs_background": "light"
          }
        }
      ]
    },
    {
      "cell_type": "code",
      "metadata": {
        "colab": {
          "base_uri": "https://localhost:8080/",
          "height": 133
        },
        "id": "jUCYv24uZPAs",
        "outputId": "20277a28-73f4-4cc2-9f08-7b7c423819f4"
      },
      "source": [
        "students.groupby(\"test preparation course\").mean().T"
      ],
      "execution_count": 27,
      "outputs": [
        {
          "output_type": "execute_result",
          "data": {
            "text/html": [
              "<div>\n",
              "<style scoped>\n",
              "    .dataframe tbody tr th:only-of-type {\n",
              "        vertical-align: middle;\n",
              "    }\n",
              "\n",
              "    .dataframe tbody tr th {\n",
              "        vertical-align: top;\n",
              "    }\n",
              "\n",
              "    .dataframe thead th {\n",
              "        text-align: right;\n",
              "    }\n",
              "</style>\n",
              "<table border=\"1\" class=\"dataframe\">\n",
              "  <thead>\n",
              "    <tr style=\"text-align: right;\">\n",
              "      <th>test preparation course</th>\n",
              "      <th>completed</th>\n",
              "      <th>none</th>\n",
              "    </tr>\n",
              "  </thead>\n",
              "  <tbody>\n",
              "    <tr>\n",
              "      <th>math score</th>\n",
              "      <td>69.695530726256990</td>\n",
              "      <td>64.077881619937699</td>\n",
              "    </tr>\n",
              "    <tr>\n",
              "      <th>reading score</th>\n",
              "      <td>73.893854748603346</td>\n",
              "      <td>66.534267912772592</td>\n",
              "    </tr>\n",
              "    <tr>\n",
              "      <th>writing score</th>\n",
              "      <td>74.418994413407816</td>\n",
              "      <td>64.504672897196258</td>\n",
              "    </tr>\n",
              "  </tbody>\n",
              "</table>\n",
              "</div>"
            ],
            "text/plain": [
              "test preparation course          completed               none\n",
              "math score              69.695530726256990 64.077881619937699\n",
              "reading score           73.893854748603346 66.534267912772592\n",
              "writing score           74.418994413407816 64.504672897196258"
            ]
          },
          "metadata": {
            "tags": []
          },
          "execution_count": 27
        }
      ]
    },
    {
      "cell_type": "markdown",
      "metadata": {
        "id": "dws4r4vKfBz9"
      },
      "source": [
        "**When there is no test preparation, low scores in all courses.**"
      ]
    },
    {
      "cell_type": "markdown",
      "metadata": {
        "id": "rxQTMYE-hU_0"
      },
      "source": [
        "**(4)** Which lessons are most correlated with each other?"
      ]
    },
    {
      "cell_type": "code",
      "metadata": {
        "id": "O46CMT85hU_1",
        "colab": {
          "base_uri": "https://localhost:8080/",
          "height": 133
        },
        "outputId": "8dcc271a-e564-4f07-b091-1b3dc8a19f93"
      },
      "source": [
        "students.corr()"
      ],
      "execution_count": 28,
      "outputs": [
        {
          "output_type": "execute_result",
          "data": {
            "text/html": [
              "<div>\n",
              "<style scoped>\n",
              "    .dataframe tbody tr th:only-of-type {\n",
              "        vertical-align: middle;\n",
              "    }\n",
              "\n",
              "    .dataframe tbody tr th {\n",
              "        vertical-align: top;\n",
              "    }\n",
              "\n",
              "    .dataframe thead th {\n",
              "        text-align: right;\n",
              "    }\n",
              "</style>\n",
              "<table border=\"1\" class=\"dataframe\">\n",
              "  <thead>\n",
              "    <tr style=\"text-align: right;\">\n",
              "      <th></th>\n",
              "      <th>math score</th>\n",
              "      <th>reading score</th>\n",
              "      <th>writing score</th>\n",
              "    </tr>\n",
              "  </thead>\n",
              "  <tbody>\n",
              "    <tr>\n",
              "      <th>math score</th>\n",
              "      <td>1.000000000000000</td>\n",
              "      <td>0.817579663672053</td>\n",
              "      <td>0.802642045949807</td>\n",
              "    </tr>\n",
              "    <tr>\n",
              "      <th>reading score</th>\n",
              "      <td>0.817579663672053</td>\n",
              "      <td>1.000000000000000</td>\n",
              "      <td>0.954598077146248</td>\n",
              "    </tr>\n",
              "    <tr>\n",
              "      <th>writing score</th>\n",
              "      <td>0.802642045949807</td>\n",
              "      <td>0.954598077146248</td>\n",
              "      <td>1.000000000000000</td>\n",
              "    </tr>\n",
              "  </tbody>\n",
              "</table>\n",
              "</div>"
            ],
            "text/plain": [
              "                     math score     reading score     writing score\n",
              "math score    1.000000000000000 0.817579663672053 0.802642045949807\n",
              "reading score 0.817579663672053 1.000000000000000 0.954598077146248\n",
              "writing score 0.802642045949807 0.954598077146248 1.000000000000000"
            ]
          },
          "metadata": {
            "tags": []
          },
          "execution_count": 28
        }
      ]
    },
    {
      "cell_type": "markdown",
      "metadata": {
        "id": "N6QlhkdXoukR"
      },
      "source": [
        "**Reading and writing courses are the most correlated with each other.**"
      ]
    }
  ]
}